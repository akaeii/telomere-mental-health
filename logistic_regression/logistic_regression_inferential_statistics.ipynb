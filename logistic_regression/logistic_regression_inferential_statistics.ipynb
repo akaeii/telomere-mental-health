{
 "cells": [
  {
   "cell_type": "code",
   "execution_count": 1,
   "id": "89e94b57",
   "metadata": {},
   "outputs": [],
   "source": [
    "import statsmodels.formula.api as smf\n",
    "import pandas as pd\n",
    "import numpy as np"
   ]
  },
  {
   "cell_type": "markdown",
   "id": "d48b0942",
   "metadata": {},
   "source": [
    "<h1 style=\"text-align:center\">Dataset Loading</h1>"
   ]
  },
  {
   "cell_type": "code",
   "execution_count": 157,
   "id": "3fbc8518",
   "metadata": {},
   "outputs": [],
   "source": [
    "data = pd.read_excel(\"../data/Telomere MDD.xlsx\")\n",
    "data = data.loc[:, data.apply(pd.Series.nunique) > 1]"
   ]
  },
  {
   "cell_type": "code",
   "execution_count": 103,
   "id": "85b6b40b",
   "metadata": {},
   "outputs": [
    {
     "name": "stdout",
     "output_type": "stream",
     "text": [
      "telomere_length\n",
      "age\n",
      "sex\n",
      "civil_status\n",
      "educ_level\n",
      "employ_stat\n",
      "ses\n",
      "average_sleep\n",
      "smoking_daily_ave\n",
      "alcohol_daily_ave\n",
      "prohibited_drug\n",
      "prohibited_drug_type\n",
      "fruit_veg\n",
      "processed_food\n",
      "physical_activity_level\n",
      "bmi_asian\n",
      "asthma\n",
      "other_disease\n",
      "cancer_fh\n",
      "asthma_fh\n",
      "cardiovascular_disease_fh\n",
      "ckd_fh\n",
      "anxiety_disorder_fh\n",
      "other_disease_fh\n",
      "breakup_separation_pf\n",
      "death_pf\n",
      "financial_pf\n",
      "dismissal_pf\n",
      "family_pf\n",
      "illness_pf\n",
      "work_pf\n",
      "work_stress_pf\n",
      "others_pf\n",
      "treatment_mode\n",
      "hamd_initial_score\n",
      "hamd_4th_week\n",
      "hamd_6th_week\n",
      "hamd_8th_week\n",
      "hamd_response\n",
      "phq9_initial_score\n",
      "phq9_4th_week\n",
      "phq9_6th_week\n",
      "phq9_8th_week\n",
      "phq9_response\n",
      "pss_initial_score\n",
      "pss_4th_week\n",
      "pss_6th_week\n",
      "pss_8th_week\n",
      "ace_abuse_emotional\n",
      "ace_abuse_physical\n",
      "ace_abuse_sexual\n",
      "ace_neglect_emotional\n",
      "ace_neglect_physical\n",
      "ace_challenge_mother_violence\n",
      "ace_challenge_substance_abuse\n",
      "ace_challenge_mental_illness\n",
      "ace_challenge_parent_divorce\n",
      "ace_challenge_incarcerated\n",
      "ace_score\n"
     ]
    }
   ],
   "source": [
    "for i in data.columns:\n",
    "    print(i)"
   ]
  },
  {
   "cell_type": "code",
   "execution_count": 161,
   "id": "fcd02493",
   "metadata": {},
   "outputs": [],
   "source": [
    "data.hamd_response = data.hamd_response.map({2: 0, 1: 1})\n",
    "data.hamd_response = data.phq9_response.map({2: 0, 1: 1})"
   ]
  },
  {
   "cell_type": "markdown",
   "id": "449f2a1b",
   "metadata": {},
   "source": [
    "<h1 style=\"text-align:center\">Multiple Logistic Regression</h1>"
   ]
  },
  {
   "cell_type": "markdown",
   "id": "7d6d291d",
   "metadata": {},
   "source": [
    "<h2>HAMD Response</h2>"
   ]
  },
  {
   "cell_type": "markdown",
   "id": "14fd1764",
   "metadata": {},
   "source": [
    "<h2>Core Model</h2>"
   ]
  },
  {
   "cell_type": "code",
   "execution_count": null,
   "id": "45b4cb8e",
   "metadata": {},
   "outputs": [],
   "source": [
    "hamd_log_res_model = smf.logit(\n",
    "    formula=\"\"\"\n",
    "    hamd_response ~\n",
    "    hamd_initial_score +\n",
    "    C(treatment_mode, Treatment(reference=3)) +\n",
    "    telomere_length +\n",
    "    age +\n",
    "    C(sex) +\n",
    "    C(bmi, Treatment(reference=2))\n",
    "    \"\"\",\n",
    "    data=data,\n",
    ")\n",
    "hamd_result = hamd_log_res_model.fit(method=\"lbfgs\", maxiter=500)"
   ]
  },
  {
   "cell_type": "code",
   "execution_count": null,
   "id": "6760fff6",
   "metadata": {},
   "outputs": [
    {
     "data": {
      "text/html": [
       "<table class=\"simpletable\">\n",
       "<caption>Logit Regression Results</caption>\n",
       "<tr>\n",
       "  <th>Dep. Variable:</th>     <td>hamd_response</td>  <th>  No. Observations:  </th>  <td>    64</td> \n",
       "</tr>\n",
       "<tr>\n",
       "  <th>Model:</th>                 <td>Logit</td>      <th>  Df Residuals:      </th>  <td>    57</td> \n",
       "</tr>\n",
       "<tr>\n",
       "  <th>Method:</th>                 <td>MLE</td>       <th>  Df Model:          </th>  <td>     6</td> \n",
       "</tr>\n",
       "<tr>\n",
       "  <th>Date:</th>            <td>Wed, 11 Jun 2025</td> <th>  Pseudo R-squ.:     </th>  <td>0.1469</td> \n",
       "</tr>\n",
       "<tr>\n",
       "  <th>Time:</th>                <td>18:24:45</td>     <th>  Log-Likelihood:    </th> <td> -35.132</td>\n",
       "</tr>\n",
       "<tr>\n",
       "  <th>converged:</th>             <td>True</td>       <th>  LL-Null:           </th> <td> -41.183</td>\n",
       "</tr>\n",
       "<tr>\n",
       "  <th>Covariance Type:</th>     <td>nonrobust</td>    <th>  LLR p-value:       </th>  <td>0.05970</td>\n",
       "</tr>\n",
       "</table>\n",
       "<table class=\"simpletable\">\n",
       "<tr>\n",
       "                         <td></td>                           <th>coef</th>     <th>std err</th>      <th>z</th>      <th>P>|z|</th>  <th>[0.025</th>    <th>0.975]</th>  \n",
       "</tr>\n",
       "<tr>\n",
       "  <th>Intercept</th>                                      <td>    1.0753</td> <td>    1.696</td> <td>    0.634</td> <td> 0.526</td> <td>   -2.248</td> <td>    4.399</td>\n",
       "</tr>\n",
       "<tr>\n",
       "  <th>C(treatment_mode, Treatment(reference=3))[T.1]</th> <td>   -1.1174</td> <td>    0.655</td> <td>   -1.707</td> <td> 0.088</td> <td>   -2.401</td> <td>    0.166</td>\n",
       "</tr>\n",
       "<tr>\n",
       "  <th>C(treatment_mode, Treatment(reference=3))[T.2]</th> <td>    1.6563</td> <td>    1.182</td> <td>    1.402</td> <td> 0.161</td> <td>   -0.660</td> <td>    3.973</td>\n",
       "</tr>\n",
       "<tr>\n",
       "  <th>C(sex)[T.2]</th>                                    <td>   -0.3479</td> <td>    0.639</td> <td>   -0.545</td> <td> 0.586</td> <td>   -1.600</td> <td>    0.904</td>\n",
       "</tr>\n",
       "<tr>\n",
       "  <th>hamd_initial_score</th>                             <td>    0.2176</td> <td>    0.272</td> <td>    0.799</td> <td> 0.424</td> <td>   -0.316</td> <td>    0.751</td>\n",
       "</tr>\n",
       "<tr>\n",
       "  <th>telomere_length</th>                                <td>    0.0146</td> <td>    0.034</td> <td>    0.432</td> <td> 0.666</td> <td>   -0.052</td> <td>    0.081</td>\n",
       "</tr>\n",
       "<tr>\n",
       "  <th>age</th>                                            <td>   -0.0288</td> <td>    0.035</td> <td>   -0.822</td> <td> 0.411</td> <td>   -0.098</td> <td>    0.040</td>\n",
       "</tr>\n",
       "</table>"
      ],
      "text/latex": [
       "\\begin{center}\n",
       "\\begin{tabular}{lclc}\n",
       "\\toprule\n",
       "\\textbf{Dep. Variable:}                                  &  hamd\\_response  & \\textbf{  No. Observations:  } &       64    \\\\\n",
       "\\textbf{Model:}                                          &      Logit       & \\textbf{  Df Residuals:      } &       57    \\\\\n",
       "\\textbf{Method:}                                         &       MLE        & \\textbf{  Df Model:          } &        6    \\\\\n",
       "\\textbf{Date:}                                           & Wed, 11 Jun 2025 & \\textbf{  Pseudo R-squ.:     } &   0.1469    \\\\\n",
       "\\textbf{Time:}                                           &     18:24:45     & \\textbf{  Log-Likelihood:    } &   -35.132   \\\\\n",
       "\\textbf{converged:}                                      &       True       & \\textbf{  LL-Null:           } &   -41.183   \\\\\n",
       "\\textbf{Covariance Type:}                                &    nonrobust     & \\textbf{  LLR p-value:       } &  0.05970    \\\\\n",
       "\\bottomrule\n",
       "\\end{tabular}\n",
       "\\begin{tabular}{lcccccc}\n",
       "                                                         & \\textbf{coef} & \\textbf{std err} & \\textbf{z} & \\textbf{P$> |$z$|$} & \\textbf{[0.025} & \\textbf{0.975]}  \\\\\n",
       "\\midrule\n",
       "\\textbf{Intercept}                                       &       1.0753  &        1.696     &     0.634  &         0.526        &       -2.248    &        4.399     \\\\\n",
       "\\textbf{C(treatment\\_mode, Treatment(reference=3))[T.1]} &      -1.1174  &        0.655     &    -1.707  &         0.088        &       -2.401    &        0.166     \\\\\n",
       "\\textbf{C(treatment\\_mode, Treatment(reference=3))[T.2]} &       1.6563  &        1.182     &     1.402  &         0.161        &       -0.660    &        3.973     \\\\\n",
       "\\textbf{C(sex)[T.2]}                                     &      -0.3479  &        0.639     &    -0.545  &         0.586        &       -1.600    &        0.904     \\\\\n",
       "\\textbf{hamd\\_initial\\_score}                            &       0.2176  &        0.272     &     0.799  &         0.424        &       -0.316    &        0.751     \\\\\n",
       "\\textbf{telomere\\_length}                                &       0.0146  &        0.034     &     0.432  &         0.666        &       -0.052    &        0.081     \\\\\n",
       "\\textbf{age}                                             &      -0.0288  &        0.035     &    -0.822  &         0.411        &       -0.098    &        0.040     \\\\\n",
       "\\bottomrule\n",
       "\\end{tabular}\n",
       "%\\caption{Logit Regression Results}\n",
       "\\end{center}"
      ],
      "text/plain": [
       "<class 'statsmodels.iolib.summary.Summary'>\n",
       "\"\"\"\n",
       "                           Logit Regression Results                           \n",
       "==============================================================================\n",
       "Dep. Variable:          hamd_response   No. Observations:                   64\n",
       "Model:                          Logit   Df Residuals:                       57\n",
       "Method:                           MLE   Df Model:                            6\n",
       "Date:                Wed, 11 Jun 2025   Pseudo R-squ.:                  0.1469\n",
       "Time:                        18:24:45   Log-Likelihood:                -35.132\n",
       "converged:                       True   LL-Null:                       -41.183\n",
       "Covariance Type:            nonrobust   LLR p-value:                   0.05970\n",
       "==================================================================================================================\n",
       "                                                     coef    std err          z      P>|z|      [0.025      0.975]\n",
       "------------------------------------------------------------------------------------------------------------------\n",
       "Intercept                                          1.0753      1.696      0.634      0.526      -2.248       4.399\n",
       "C(treatment_mode, Treatment(reference=3))[T.1]    -1.1174      0.655     -1.707      0.088      -2.401       0.166\n",
       "C(treatment_mode, Treatment(reference=3))[T.2]     1.6563      1.182      1.402      0.161      -0.660       3.973\n",
       "C(sex)[T.2]                                       -0.3479      0.639     -0.545      0.586      -1.600       0.904\n",
       "hamd_initial_score                                 0.2176      0.272      0.799      0.424      -0.316       0.751\n",
       "telomere_length                                    0.0146      0.034      0.432      0.666      -0.052       0.081\n",
       "age                                               -0.0288      0.035     -0.822      0.411      -0.098       0.040\n",
       "==================================================================================================================\n",
       "\"\"\""
      ]
     },
     "execution_count": 171,
     "metadata": {},
     "output_type": "execute_result"
    }
   ],
   "source": [
    "hamd_result.summary()"
   ]
  },
  {
   "cell_type": "markdown",
   "id": "fad4994c",
   "metadata": {},
   "source": [
    "<h2>PHQ-9 Response</h2>"
   ]
  }
 ],
 "metadata": {
  "kernelspec": {
   "display_name": ".venv",
   "language": "python",
   "name": "python3"
  },
  "language_info": {
   "codemirror_mode": {
    "name": "ipython",
    "version": 3
   },
   "file_extension": ".py",
   "mimetype": "text/x-python",
   "name": "python",
   "nbconvert_exporter": "python",
   "pygments_lexer": "ipython3",
   "version": "3.11.9"
  }
 },
 "nbformat": 4,
 "nbformat_minor": 5
}
