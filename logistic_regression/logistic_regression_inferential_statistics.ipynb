{
 "cells": [
  {
   "cell_type": "code",
   "execution_count": 1,
   "id": "89e94b57",
   "metadata": {},
   "outputs": [],
   "source": [
    "import statsmodels.formula.api as smf\n",
    "import pandas as pd\n",
    "import numpy as np"
   ]
  },
  {
   "cell_type": "markdown",
   "id": "d48b0942",
   "metadata": {},
   "source": [
    "<h1 style=\"text-align:center\">Dataset Loading</h1>"
   ]
  },
  {
   "cell_type": "code",
   "execution_count": 2,
   "id": "3fbc8518",
   "metadata": {},
   "outputs": [],
   "source": [
    "data = pd.read_excel(\"../data/Telomere MDD.xlsx\")"
   ]
  },
  {
   "cell_type": "markdown",
   "id": "449f2a1b",
   "metadata": {},
   "source": [
    "<h1 style=\"text-align:center\">Multiple Logistic Regression</h1>"
   ]
  },
  {
   "cell_type": "code",
   "execution_count": 3,
   "id": "fcd02493",
   "metadata": {},
   "outputs": [],
   "source": [
    "log_res_temp = data[\n",
    "    [\n",
    "        \"hamd_response\",\n",
    "        \"sex\",\n",
    "        \"age\",\n",
    "        \"telomere_length\",\n",
    "        \"physical_activity_level\",\n",
    "        \"bmi_asian\",\n",
    "        \"ace_score\",\n",
    "        \"average_sleep\",\n",
    "        \"treatment_mode\",\n",
    "    ]\n",
    "].copy()\n",
    "\n",
    "log_res_temp[\"hamd_response\"] = log_res_temp.hamd_response.map({2: 0, 1: 1})"
   ]
  },
  {
   "cell_type": "code",
   "execution_count": 4,
   "id": "45b4cb8e",
   "metadata": {},
   "outputs": [],
   "source": [
    "log_res_model = smf.logit(\n",
    "    formula=\"hamd_response ~ age + telomere_length + ace_score + average_sleep + C(sex) + C(treatment_mode, Treatment(reference=3))\",\n",
    "    data=log_res_temp,\n",
    ")"
   ]
  },
  {
   "cell_type": "code",
   "execution_count": 5,
   "id": "6760fff6",
   "metadata": {},
   "outputs": [
    {
     "name": "stdout",
     "output_type": "stream",
     "text": [
      "Optimization terminated successfully.\n",
      "         Current function value: 0.479112\n",
      "         Iterations 7\n"
     ]
    }
   ],
   "source": [
    "result = log_res_model.fit()"
   ]
  },
  {
   "cell_type": "code",
   "execution_count": 6,
   "id": "1cefcd82",
   "metadata": {},
   "outputs": [
    {
     "data": {
      "text/html": [
       "<table class=\"simpletable\">\n",
       "<caption>Logit Regression Results</caption>\n",
       "<tr>\n",
       "  <th>Dep. Variable:</th>     <td>hamd_response</td>  <th>  No. Observations:  </th>  <td>    64</td> \n",
       "</tr>\n",
       "<tr>\n",
       "  <th>Model:</th>                 <td>Logit</td>      <th>  Df Residuals:      </th>  <td>    56</td> \n",
       "</tr>\n",
       "<tr>\n",
       "  <th>Method:</th>                 <td>MLE</td>       <th>  Df Model:          </th>  <td>     7</td> \n",
       "</tr>\n",
       "<tr>\n",
       "  <th>Date:</th>            <td>Mon, 09 Jun 2025</td> <th>  Pseudo R-squ.:     </th>  <td>0.2839</td> \n",
       "</tr>\n",
       "<tr>\n",
       "  <th>Time:</th>                <td>01:45:22</td>     <th>  Log-Likelihood:    </th> <td> -30.663</td>\n",
       "</tr>\n",
       "<tr>\n",
       "  <th>converged:</th>             <td>True</td>       <th>  LL-Null:           </th> <td> -42.818</td>\n",
       "</tr>\n",
       "<tr>\n",
       "  <th>Covariance Type:</th>     <td>nonrobust</td>    <th>  LLR p-value:       </th> <td>0.001005</td>\n",
       "</tr>\n",
       "</table>\n",
       "<table class=\"simpletable\">\n",
       "<tr>\n",
       "                         <td></td>                           <th>coef</th>     <th>std err</th>      <th>z</th>      <th>P>|z|</th>  <th>[0.025</th>    <th>0.975]</th>  \n",
       "</tr>\n",
       "<tr>\n",
       "  <th>Intercept</th>                                      <td>   -0.2643</td> <td>    2.101</td> <td>   -0.126</td> <td> 0.900</td> <td>   -4.382</td> <td>    3.853</td>\n",
       "</tr>\n",
       "<tr>\n",
       "  <th>C(sex)[T.2]</th>                                    <td>   -0.7973</td> <td>    0.692</td> <td>   -1.153</td> <td> 0.249</td> <td>   -2.153</td> <td>    0.558</td>\n",
       "</tr>\n",
       "<tr>\n",
       "  <th>C(treatment_mode, Treatment(reference=3))[T.1]</th> <td>   -3.2872</td> <td>    1.189</td> <td>   -2.766</td> <td> 0.006</td> <td>   -5.617</td> <td>   -0.958</td>\n",
       "</tr>\n",
       "<tr>\n",
       "  <th>C(treatment_mode, Treatment(reference=3))[T.2]</th> <td>    1.1835</td> <td>    0.796</td> <td>    1.487</td> <td> 0.137</td> <td>   -0.377</td> <td>    2.744</td>\n",
       "</tr>\n",
       "<tr>\n",
       "  <th>age</th>                                            <td>    0.0012</td> <td>    0.035</td> <td>    0.035</td> <td> 0.972</td> <td>   -0.068</td> <td>    0.070</td>\n",
       "</tr>\n",
       "<tr>\n",
       "  <th>telomere_length</th>                                <td>   -0.0224</td> <td>    0.039</td> <td>   -0.577</td> <td> 0.564</td> <td>   -0.098</td> <td>    0.054</td>\n",
       "</tr>\n",
       "<tr>\n",
       "  <th>ace_score</th>                                      <td>    0.0856</td> <td>    0.188</td> <td>    0.456</td> <td> 0.649</td> <td>   -0.283</td> <td>    0.454</td>\n",
       "</tr>\n",
       "<tr>\n",
       "  <th>average_sleep</th>                                  <td>    0.1289</td> <td>    0.214</td> <td>    0.603</td> <td> 0.547</td> <td>   -0.290</td> <td>    0.548</td>\n",
       "</tr>\n",
       "</table>"
      ],
      "text/latex": [
       "\\begin{center}\n",
       "\\begin{tabular}{lclc}\n",
       "\\toprule\n",
       "\\textbf{Dep. Variable:}                                  &  hamd\\_response  & \\textbf{  No. Observations:  } &       64    \\\\\n",
       "\\textbf{Model:}                                          &      Logit       & \\textbf{  Df Residuals:      } &       56    \\\\\n",
       "\\textbf{Method:}                                         &       MLE        & \\textbf{  Df Model:          } &        7    \\\\\n",
       "\\textbf{Date:}                                           & Mon, 09 Jun 2025 & \\textbf{  Pseudo R-squ.:     } &   0.2839    \\\\\n",
       "\\textbf{Time:}                                           &     01:45:22     & \\textbf{  Log-Likelihood:    } &   -30.663   \\\\\n",
       "\\textbf{converged:}                                      &       True       & \\textbf{  LL-Null:           } &   -42.818   \\\\\n",
       "\\textbf{Covariance Type:}                                &    nonrobust     & \\textbf{  LLR p-value:       } &  0.001005   \\\\\n",
       "\\bottomrule\n",
       "\\end{tabular}\n",
       "\\begin{tabular}{lcccccc}\n",
       "                                                         & \\textbf{coef} & \\textbf{std err} & \\textbf{z} & \\textbf{P$> |$z$|$} & \\textbf{[0.025} & \\textbf{0.975]}  \\\\\n",
       "\\midrule\n",
       "\\textbf{Intercept}                                       &      -0.2643  &        2.101     &    -0.126  &         0.900        &       -4.382    &        3.853     \\\\\n",
       "\\textbf{C(sex)[T.2]}                                     &      -0.7973  &        0.692     &    -1.153  &         0.249        &       -2.153    &        0.558     \\\\\n",
       "\\textbf{C(treatment\\_mode, Treatment(reference=3))[T.1]} &      -3.2872  &        1.189     &    -2.766  &         0.006        &       -5.617    &       -0.958     \\\\\n",
       "\\textbf{C(treatment\\_mode, Treatment(reference=3))[T.2]} &       1.1835  &        0.796     &     1.487  &         0.137        &       -0.377    &        2.744     \\\\\n",
       "\\textbf{age}                                             &       0.0012  &        0.035     &     0.035  &         0.972        &       -0.068    &        0.070     \\\\\n",
       "\\textbf{telomere\\_length}                                &      -0.0224  &        0.039     &    -0.577  &         0.564        &       -0.098    &        0.054     \\\\\n",
       "\\textbf{ace\\_score}                                      &       0.0856  &        0.188     &     0.456  &         0.649        &       -0.283    &        0.454     \\\\\n",
       "\\textbf{average\\_sleep}                                  &       0.1289  &        0.214     &     0.603  &         0.547        &       -0.290    &        0.548     \\\\\n",
       "\\bottomrule\n",
       "\\end{tabular}\n",
       "%\\caption{Logit Regression Results}\n",
       "\\end{center}"
      ],
      "text/plain": [
       "<class 'statsmodels.iolib.summary.Summary'>\n",
       "\"\"\"\n",
       "                           Logit Regression Results                           \n",
       "==============================================================================\n",
       "Dep. Variable:          hamd_response   No. Observations:                   64\n",
       "Model:                          Logit   Df Residuals:                       56\n",
       "Method:                           MLE   Df Model:                            7\n",
       "Date:                Mon, 09 Jun 2025   Pseudo R-squ.:                  0.2839\n",
       "Time:                        01:45:22   Log-Likelihood:                -30.663\n",
       "converged:                       True   LL-Null:                       -42.818\n",
       "Covariance Type:            nonrobust   LLR p-value:                  0.001005\n",
       "==================================================================================================================\n",
       "                                                     coef    std err          z      P>|z|      [0.025      0.975]\n",
       "------------------------------------------------------------------------------------------------------------------\n",
       "Intercept                                         -0.2643      2.101     -0.126      0.900      -4.382       3.853\n",
       "C(sex)[T.2]                                       -0.7973      0.692     -1.153      0.249      -2.153       0.558\n",
       "C(treatment_mode, Treatment(reference=3))[T.1]    -3.2872      1.189     -2.766      0.006      -5.617      -0.958\n",
       "C(treatment_mode, Treatment(reference=3))[T.2]     1.1835      0.796      1.487      0.137      -0.377       2.744\n",
       "age                                                0.0012      0.035      0.035      0.972      -0.068       0.070\n",
       "telomere_length                                   -0.0224      0.039     -0.577      0.564      -0.098       0.054\n",
       "ace_score                                          0.0856      0.188      0.456      0.649      -0.283       0.454\n",
       "average_sleep                                      0.1289      0.214      0.603      0.547      -0.290       0.548\n",
       "==================================================================================================================\n",
       "\"\"\""
      ]
     },
     "execution_count": 6,
     "metadata": {},
     "output_type": "execute_result"
    }
   ],
   "source": [
    "result.summary()"
   ]
  },
  {
   "cell_type": "code",
   "execution_count": 7,
   "id": "34cbb5c6",
   "metadata": {},
   "outputs": [],
   "source": [
    "odds_ratio = np.exp(result.params)"
   ]
  },
  {
   "cell_type": "code",
   "execution_count": 8,
   "id": "a7c3718e",
   "metadata": {},
   "outputs": [
    {
     "data": {
      "application/vnd.microsoft.datawrangler.viewer.v0+json": {
       "columns": [
        {
         "name": "index",
         "rawType": "object",
         "type": "string"
        },
        {
         "name": "0",
         "rawType": "float64",
         "type": "float"
        }
       ],
       "ref": "60d86332-a5f5-4719-bfdc-1d29d371b213",
       "rows": [
        [
         "Intercept",
         "0.7677613647176667"
        ],
        [
         "C(sex)[T.2]",
         "0.4505284112344115"
        ],
        [
         "C(treatment_mode, Treatment(reference=3))[T.1]",
         "0.037358190759898706"
        ],
        [
         "C(treatment_mode, Treatment(reference=3))[T.2]",
         "3.265875461333279"
        ],
        [
         "age",
         "1.001225747125095"
        ],
        [
         "telomere_length",
         "0.9778410939201724"
        ],
        [
         "ace_score",
         "1.089396473897284"
        ],
        [
         "average_sleep",
         "1.1375420629172812"
        ]
       ],
       "shape": {
        "columns": 1,
        "rows": 8
       }
      },
      "text/plain": [
       "Intercept                                         0.767761\n",
       "C(sex)[T.2]                                       0.450528\n",
       "C(treatment_mode, Treatment(reference=3))[T.1]    0.037358\n",
       "C(treatment_mode, Treatment(reference=3))[T.2]    3.265875\n",
       "age                                               1.001226\n",
       "telomere_length                                   0.977841\n",
       "ace_score                                         1.089396\n",
       "average_sleep                                     1.137542\n",
       "dtype: float64"
      ]
     },
     "execution_count": 8,
     "metadata": {},
     "output_type": "execute_result"
    }
   ],
   "source": [
    "odds_ratio"
   ]
  }
 ],
 "metadata": {
  "kernelspec": {
   "display_name": ".venv",
   "language": "python",
   "name": "python3"
  },
  "language_info": {
   "codemirror_mode": {
    "name": "ipython",
    "version": 3
   },
   "file_extension": ".py",
   "mimetype": "text/x-python",
   "name": "python",
   "nbconvert_exporter": "python",
   "pygments_lexer": "ipython3",
   "version": "3.11.9"
  }
 },
 "nbformat": 4,
 "nbformat_minor": 5
}
