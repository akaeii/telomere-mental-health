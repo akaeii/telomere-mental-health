{
 "cells": [
  {
   "cell_type": "code",
   "execution_count": 57,
   "id": "89e94b57",
   "metadata": {},
   "outputs": [],
   "source": [
    "import statsmodels.formula.api as smf\n",
    "import pandas as pd\n",
    "import numpy as np"
   ]
  },
  {
   "cell_type": "markdown",
   "id": "d48b0942",
   "metadata": {},
   "source": [
    "<h1 style=\"text-align:center\">Dataset Loading</h1>"
   ]
  },
  {
   "cell_type": "code",
   "execution_count": 36,
   "id": "3fbc8518",
   "metadata": {},
   "outputs": [],
   "source": [
    "data = pd.read_excel(\"../data/Telomere MDD.xlsx\")"
   ]
  },
  {
   "cell_type": "markdown",
   "id": "449f2a1b",
   "metadata": {},
   "source": [
    "<h1 style=\"text-align:center\">Multiple Logistic Regression</h1>"
   ]
  },
  {
   "cell_type": "code",
   "execution_count": 37,
   "id": "fcd02493",
   "metadata": {},
   "outputs": [],
   "source": [
    "log_res_temp = data[\n",
    "    [\n",
    "        \"hamd_response\",\n",
    "        \"sex\",\n",
    "        \"telomere_length\",\n",
    "        \"physical_activity_level\",\n",
    "        \"bmi_asian\",\n",
    "        \"ace_score\",\n",
    "        \"average_sleep\",\n",
    "        \"treatment_mode\",\n",
    "    ]\n",
    "].copy()\n",
    "\n",
    "log_res_temp[\"hamd_response\"] = log_res_temp.hamd_response.map({2: 0, 1: 1})"
   ]
  },
  {
   "cell_type": "code",
   "execution_count": 52,
   "id": "45b4cb8e",
   "metadata": {},
   "outputs": [],
   "source": [
    "log_res_model = smf.logit(\n",
    "    formula=\"hamd_response ~ telomere_length + ace_score + average_sleep + C(sex) + C(treatment_mode, Treatment(reference=3))\",\n",
    "    data=log_res_temp,\n",
    ")"
   ]
  },
  {
   "cell_type": "code",
   "execution_count": 64,
   "id": "6760fff6",
   "metadata": {},
   "outputs": [
    {
     "name": "stdout",
     "output_type": "stream",
     "text": [
      "Optimization terminated successfully.\n",
      "         Current function value: 0.479122\n",
      "         Iterations 7\n"
     ]
    }
   ],
   "source": [
    "result = log_res_model.fit()"
   ]
  },
  {
   "cell_type": "code",
   "execution_count": 63,
   "id": "1cefcd82",
   "metadata": {},
   "outputs": [
    {
     "data": {
      "text/html": [
       "<table class=\"simpletable\">\n",
       "<caption>Logit Regression Results</caption>\n",
       "<tr>\n",
       "  <th>Dep. Variable:</th>     <td>hamd_response</td>  <th>  No. Observations:  </th>  <td>    64</td>  \n",
       "</tr>\n",
       "<tr>\n",
       "  <th>Model:</th>                 <td>Logit</td>      <th>  Df Residuals:      </th>  <td>    57</td>  \n",
       "</tr>\n",
       "<tr>\n",
       "  <th>Method:</th>                 <td>MLE</td>       <th>  Df Model:          </th>  <td>     6</td>  \n",
       "</tr>\n",
       "<tr>\n",
       "  <th>Date:</th>            <td>Sun, 08 Jun 2025</td> <th>  Pseudo R-squ.:     </th>  <td>0.2839</td>  \n",
       "</tr>\n",
       "<tr>\n",
       "  <th>Time:</th>                <td>02:01:09</td>     <th>  Log-Likelihood:    </th> <td> -30.664</td> \n",
       "</tr>\n",
       "<tr>\n",
       "  <th>converged:</th>             <td>True</td>       <th>  LL-Null:           </th> <td> -42.818</td> \n",
       "</tr>\n",
       "<tr>\n",
       "  <th>Covariance Type:</th>     <td>nonrobust</td>    <th>  LLR p-value:       </th> <td>0.0004584</td>\n",
       "</tr>\n",
       "</table>\n",
       "<table class=\"simpletable\">\n",
       "<tr>\n",
       "                         <td></td>                           <th>coef</th>     <th>std err</th>      <th>z</th>      <th>P>|z|</th>  <th>[0.025</th>    <th>0.975]</th>  \n",
       "</tr>\n",
       "<tr>\n",
       "  <th>Intercept</th>                                      <td>   -0.2207</td> <td>    1.685</td> <td>   -0.131</td> <td> 0.896</td> <td>   -3.523</td> <td>    3.082</td>\n",
       "</tr>\n",
       "<tr>\n",
       "  <th>C(sex)[T.2]</th>                                    <td>   -0.7956</td> <td>    0.690</td> <td>   -1.153</td> <td> 0.249</td> <td>   -2.148</td> <td>    0.557</td>\n",
       "</tr>\n",
       "<tr>\n",
       "  <th>C(treatment_mode, Treatment(reference=3))[T.1]</th> <td>   -3.2793</td> <td>    1.166</td> <td>   -2.812</td> <td> 0.005</td> <td>   -5.565</td> <td>   -0.993</td>\n",
       "</tr>\n",
       "<tr>\n",
       "  <th>C(treatment_mode, Treatment(reference=3))[T.2]</th> <td>    1.1814</td> <td>    0.794</td> <td>    1.488</td> <td> 0.137</td> <td>   -0.374</td> <td>    2.737</td>\n",
       "</tr>\n",
       "<tr>\n",
       "  <th>telomere_length</th>                                <td>   -0.0224</td> <td>    0.039</td> <td>   -0.578</td> <td> 0.563</td> <td>   -0.098</td> <td>    0.054</td>\n",
       "</tr>\n",
       "<tr>\n",
       "  <th>ace_score</th>                                      <td>    0.0841</td> <td>    0.183</td> <td>    0.460</td> <td> 0.645</td> <td>   -0.274</td> <td>    0.442</td>\n",
       "</tr>\n",
       "<tr>\n",
       "  <th>average_sleep</th>                                  <td>    0.1284</td> <td>    0.213</td> <td>    0.602</td> <td> 0.547</td> <td>   -0.290</td> <td>    0.547</td>\n",
       "</tr>\n",
       "</table>"
      ],
      "text/latex": [
       "\\begin{center}\n",
       "\\begin{tabular}{lclc}\n",
       "\\toprule\n",
       "\\textbf{Dep. Variable:}                                  &  hamd\\_response  & \\textbf{  No. Observations:  } &       64    \\\\\n",
       "\\textbf{Model:}                                          &      Logit       & \\textbf{  Df Residuals:      } &       57    \\\\\n",
       "\\textbf{Method:}                                         &       MLE        & \\textbf{  Df Model:          } &        6    \\\\\n",
       "\\textbf{Date:}                                           & Sun, 08 Jun 2025 & \\textbf{  Pseudo R-squ.:     } &   0.2839    \\\\\n",
       "\\textbf{Time:}                                           &     02:01:09     & \\textbf{  Log-Likelihood:    } &   -30.664   \\\\\n",
       "\\textbf{converged:}                                      &       True       & \\textbf{  LL-Null:           } &   -42.818   \\\\\n",
       "\\textbf{Covariance Type:}                                &    nonrobust     & \\textbf{  LLR p-value:       } & 0.0004584   \\\\\n",
       "\\bottomrule\n",
       "\\end{tabular}\n",
       "\\begin{tabular}{lcccccc}\n",
       "                                                         & \\textbf{coef} & \\textbf{std err} & \\textbf{z} & \\textbf{P$> |$z$|$} & \\textbf{[0.025} & \\textbf{0.975]}  \\\\\n",
       "\\midrule\n",
       "\\textbf{Intercept}                                       &      -0.2207  &        1.685     &    -0.131  &         0.896        &       -3.523    &        3.082     \\\\\n",
       "\\textbf{C(sex)[T.2]}                                     &      -0.7956  &        0.690     &    -1.153  &         0.249        &       -2.148    &        0.557     \\\\\n",
       "\\textbf{C(treatment\\_mode, Treatment(reference=3))[T.1]} &      -3.2793  &        1.166     &    -2.812  &         0.005        &       -5.565    &       -0.993     \\\\\n",
       "\\textbf{C(treatment\\_mode, Treatment(reference=3))[T.2]} &       1.1814  &        0.794     &     1.488  &         0.137        &       -0.374    &        2.737     \\\\\n",
       "\\textbf{telomere\\_length}                                &      -0.0224  &        0.039     &    -0.578  &         0.563        &       -0.098    &        0.054     \\\\\n",
       "\\textbf{ace\\_score}                                      &       0.0841  &        0.183     &     0.460  &         0.645        &       -0.274    &        0.442     \\\\\n",
       "\\textbf{average\\_sleep}                                  &       0.1284  &        0.213     &     0.602  &         0.547        &       -0.290    &        0.547     \\\\\n",
       "\\bottomrule\n",
       "\\end{tabular}\n",
       "%\\caption{Logit Regression Results}\n",
       "\\end{center}"
      ],
      "text/plain": [
       "<class 'statsmodels.iolib.summary.Summary'>\n",
       "\"\"\"\n",
       "                           Logit Regression Results                           \n",
       "==============================================================================\n",
       "Dep. Variable:          hamd_response   No. Observations:                   64\n",
       "Model:                          Logit   Df Residuals:                       57\n",
       "Method:                           MLE   Df Model:                            6\n",
       "Date:                Sun, 08 Jun 2025   Pseudo R-squ.:                  0.2839\n",
       "Time:                        02:01:09   Log-Likelihood:                -30.664\n",
       "converged:                       True   LL-Null:                       -42.818\n",
       "Covariance Type:            nonrobust   LLR p-value:                 0.0004584\n",
       "==================================================================================================================\n",
       "                                                     coef    std err          z      P>|z|      [0.025      0.975]\n",
       "------------------------------------------------------------------------------------------------------------------\n",
       "Intercept                                         -0.2207      1.685     -0.131      0.896      -3.523       3.082\n",
       "C(sex)[T.2]                                       -0.7956      0.690     -1.153      0.249      -2.148       0.557\n",
       "C(treatment_mode, Treatment(reference=3))[T.1]    -3.2793      1.166     -2.812      0.005      -5.565      -0.993\n",
       "C(treatment_mode, Treatment(reference=3))[T.2]     1.1814      0.794      1.488      0.137      -0.374       2.737\n",
       "telomere_length                                   -0.0224      0.039     -0.578      0.563      -0.098       0.054\n",
       "ace_score                                          0.0841      0.183      0.460      0.645      -0.274       0.442\n",
       "average_sleep                                      0.1284      0.213      0.602      0.547      -0.290       0.547\n",
       "==================================================================================================================\n",
       "\"\"\""
      ]
     },
     "execution_count": 63,
     "metadata": {},
     "output_type": "execute_result"
    }
   ],
   "source": [
    "result.summary()"
   ]
  },
  {
   "cell_type": "code",
   "execution_count": 65,
   "id": "34cbb5c6",
   "metadata": {},
   "outputs": [],
   "source": [
    "odds_ratio = np.exp(result.params)"
   ]
  },
  {
   "cell_type": "code",
   "execution_count": 66,
   "id": "a7c3718e",
   "metadata": {},
   "outputs": [
    {
     "data": {
      "application/vnd.microsoft.datawrangler.viewer.v0+json": {
       "columns": [
        {
         "name": "index",
         "rawType": "object",
         "type": "string"
        },
        {
         "name": "0",
         "rawType": "float64",
         "type": "float"
        }
       ],
       "ref": "b7deacad-8e60-46f1-b7d9-2ddb898a3a51",
       "rows": [
        [
         "Intercept",
         "0.8019624569208809"
        ],
        [
         "C(sex)[T.2]",
         "0.4513063026782202"
        ],
        [
         "C(treatment_mode, Treatment(reference=3))[T.1]",
         "0.03765469869325688"
        ],
        [
         "C(treatment_mode, Treatment(reference=3))[T.2]",
         "3.2590460170154114"
        ],
        [
         "telomere_length",
         "0.9778178395959246"
        ],
        [
         "ace_score",
         "1.087735957937532"
        ],
        [
         "average_sleep",
         "1.1369923547475629"
        ]
       ],
       "shape": {
        "columns": 1,
        "rows": 7
       }
      },
      "text/plain": [
       "Intercept                                         0.801962\n",
       "C(sex)[T.2]                                       0.451306\n",
       "C(treatment_mode, Treatment(reference=3))[T.1]    0.037655\n",
       "C(treatment_mode, Treatment(reference=3))[T.2]    3.259046\n",
       "telomere_length                                   0.977818\n",
       "ace_score                                         1.087736\n",
       "average_sleep                                     1.136992\n",
       "dtype: float64"
      ]
     },
     "execution_count": 66,
     "metadata": {},
     "output_type": "execute_result"
    }
   ],
   "source": [
    "odds_ratio"
   ]
  }
 ],
 "metadata": {
  "kernelspec": {
   "display_name": ".venv",
   "language": "python",
   "name": "python3"
  },
  "language_info": {
   "codemirror_mode": {
    "name": "ipython",
    "version": 3
   },
   "file_extension": ".py",
   "mimetype": "text/x-python",
   "name": "python",
   "nbconvert_exporter": "python",
   "pygments_lexer": "ipython3",
   "version": "3.11.9"
  }
 },
 "nbformat": 4,
 "nbformat_minor": 5
}
