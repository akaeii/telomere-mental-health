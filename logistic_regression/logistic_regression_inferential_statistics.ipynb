{
 "cells": [
  {
   "cell_type": "code",
   "execution_count": 1,
   "id": "89e94b57",
   "metadata": {},
   "outputs": [],
   "source": [
    "import statsmodels.formula.api as smf\n",
    "import pandas as pd\n",
    "import numpy as np"
   ]
  },
  {
   "cell_type": "markdown",
   "id": "d48b0942",
   "metadata": {},
   "source": [
    "<h1 style=\"text-align:center\">Dataset Loading</h1>"
   ]
  },
  {
   "cell_type": "code",
   "execution_count": 2,
   "id": "3fbc8518",
   "metadata": {},
   "outputs": [],
   "source": [
    "data = pd.read_excel(\"../data/Telomere MDD.xlsx\")"
   ]
  },
  {
   "cell_type": "code",
   "execution_count": 66,
   "id": "fcd02493",
   "metadata": {},
   "outputs": [],
   "source": [
    "log_res_temp = data[\n",
    "    [\n",
    "        \"hamd_response\",\n",
    "        \"phq9_response\",\n",
    "        \"sex\",\n",
    "        \"ses\",\n",
    "        \"age\",\n",
    "        \"telomere_length\",\n",
    "        \"physical_activity_level\",\n",
    "        \"bmi_asian\",\n",
    "        \"ace_score\",\n",
    "        \"average_sleep\",\n",
    "        \"treatment_mode\",\n",
    "    ]\n",
    "].copy()\n",
    "\n",
    "log_res_temp[\"hamd_response\"] = log_res_temp.hamd_response.map({2: 0, 1: 1})\n",
    "log_res_temp[\"phq9_response\"] = log_res_temp.phq9_response.map({2: 0, 1: 1})"
   ]
  },
  {
   "cell_type": "markdown",
   "id": "449f2a1b",
   "metadata": {},
   "source": [
    "<h1 style=\"text-align:center\">Multiple Logistic Regression</h1>"
   ]
  },
  {
   "cell_type": "markdown",
   "id": "7d6d291d",
   "metadata": {},
   "source": [
    "<h2>HAMD Response</h2>"
   ]
  },
  {
   "cell_type": "code",
   "execution_count": 67,
   "id": "45b4cb8e",
   "metadata": {},
   "outputs": [],
   "source": [
    "hamd_log_res_model = smf.logit(\n",
    "    formula=\"hamd_response ~ age + telomere_length + ace_score + average_sleep + C(sex) + C(treatment_mode, Treatment(reference=3)) + C(bmi_asian, Treatment(reference=2)) + C(ses, Treatment(reference=4))\",\n",
    "    data=log_res_temp,\n",
    ")"
   ]
  },
  {
   "cell_type": "code",
   "execution_count": 68,
   "id": "6760fff6",
   "metadata": {},
   "outputs": [
    {
     "name": "stdout",
     "output_type": "stream",
     "text": [
      "Optimization terminated successfully.\n",
      "         Current function value: 0.404149\n",
      "         Iterations 7\n"
     ]
    }
   ],
   "source": [
    "hamd_result = hamd_log_res_model.fit()"
   ]
  },
  {
   "cell_type": "code",
   "execution_count": 69,
   "id": "1cefcd82",
   "metadata": {},
   "outputs": [
    {
     "data": {
      "text/html": [
       "<table class=\"simpletable\">\n",
       "<caption>Logit Regression Results</caption>\n",
       "<tr>\n",
       "  <th>Dep. Variable:</th>     <td>hamd_response</td>  <th>  No. Observations:  </th>  <td>    64</td> \n",
       "</tr>\n",
       "<tr>\n",
       "  <th>Model:</th>                 <td>Logit</td>      <th>  Df Residuals:      </th>  <td>    48</td> \n",
       "</tr>\n",
       "<tr>\n",
       "  <th>Method:</th>                 <td>MLE</td>       <th>  Df Model:          </th>  <td>    15</td> \n",
       "</tr>\n",
       "<tr>\n",
       "  <th>Date:</th>            <td>Tue, 10 Jun 2025</td> <th>  Pseudo R-squ.:     </th>  <td>0.3959</td> \n",
       "</tr>\n",
       "<tr>\n",
       "  <th>Time:</th>                <td>14:45:43</td>     <th>  Log-Likelihood:    </th> <td> -25.866</td>\n",
       "</tr>\n",
       "<tr>\n",
       "  <th>converged:</th>             <td>True</td>       <th>  LL-Null:           </th> <td> -42.818</td>\n",
       "</tr>\n",
       "<tr>\n",
       "  <th>Covariance Type:</th>     <td>nonrobust</td>    <th>  LLR p-value:       </th> <td>0.003512</td>\n",
       "</tr>\n",
       "</table>\n",
       "<table class=\"simpletable\">\n",
       "<tr>\n",
       "                         <td></td>                           <th>coef</th>     <th>std err</th>      <th>z</th>      <th>P>|z|</th>  <th>[0.025</th>    <th>0.975]</th>  \n",
       "</tr>\n",
       "<tr>\n",
       "  <th>Intercept</th>                                      <td>   -1.5675</td> <td>    2.637</td> <td>   -0.594</td> <td> 0.552</td> <td>   -6.735</td> <td>    3.600</td>\n",
       "</tr>\n",
       "<tr>\n",
       "  <th>C(sex)[T.2]</th>                                    <td>   -0.7977</td> <td>    0.887</td> <td>   -0.899</td> <td> 0.368</td> <td>   -2.536</td> <td>    0.941</td>\n",
       "</tr>\n",
       "<tr>\n",
       "  <th>C(treatment_mode, Treatment(reference=3))[T.1]</th> <td>   -4.0788</td> <td>    1.404</td> <td>   -2.905</td> <td> 0.004</td> <td>   -6.831</td> <td>   -1.326</td>\n",
       "</tr>\n",
       "<tr>\n",
       "  <th>C(treatment_mode, Treatment(reference=3))[T.2]</th> <td>    2.0564</td> <td>    1.242</td> <td>    1.655</td> <td> 0.098</td> <td>   -0.379</td> <td>    4.492</td>\n",
       "</tr>\n",
       "<tr>\n",
       "  <th>C(bmi_asian, Treatment(reference=2))[T.1]</th>      <td>    0.4131</td> <td>    1.719</td> <td>    0.240</td> <td> 0.810</td> <td>   -2.957</td> <td>    3.783</td>\n",
       "</tr>\n",
       "<tr>\n",
       "  <th>C(bmi_asian, Treatment(reference=2))[T.3]</th>      <td>   -0.0867</td> <td>    1.224</td> <td>   -0.071</td> <td> 0.944</td> <td>   -2.486</td> <td>    2.313</td>\n",
       "</tr>\n",
       "<tr>\n",
       "  <th>C(bmi_asian, Treatment(reference=2))[T.4]</th>      <td>   -3.2422</td> <td>    1.872</td> <td>   -1.732</td> <td> 0.083</td> <td>   -6.912</td> <td>    0.428</td>\n",
       "</tr>\n",
       "<tr>\n",
       "  <th>C(ses, Treatment(reference=4))[T.1]</th>            <td>    2.0718</td> <td>    1.491</td> <td>    1.389</td> <td> 0.165</td> <td>   -0.851</td> <td>    4.994</td>\n",
       "</tr>\n",
       "<tr>\n",
       "  <th>C(ses, Treatment(reference=4))[T.2]</th>            <td>    2.1843</td> <td>    1.192</td> <td>    1.832</td> <td> 0.067</td> <td>   -0.152</td> <td>    4.521</td>\n",
       "</tr>\n",
       "<tr>\n",
       "  <th>C(ses, Treatment(reference=4))[T.3]</th>            <td>    2.0483</td> <td>    1.192</td> <td>    1.719</td> <td> 0.086</td> <td>   -0.287</td> <td>    4.384</td>\n",
       "</tr>\n",
       "<tr>\n",
       "  <th>C(ses, Treatment(reference=4))[T.5]</th>            <td>    0.9355</td> <td>    1.482</td> <td>    0.631</td> <td> 0.528</td> <td>   -1.968</td> <td>    3.839</td>\n",
       "</tr>\n",
       "<tr>\n",
       "  <th>C(ses, Treatment(reference=4))[T.6]</th>            <td>    2.5411</td> <td>    3.424</td> <td>    0.742</td> <td> 0.458</td> <td>   -4.171</td> <td>    9.253</td>\n",
       "</tr>\n",
       "<tr>\n",
       "  <th>age</th>                                            <td>   -0.0192</td> <td>    0.043</td> <td>   -0.441</td> <td> 0.659</td> <td>   -0.104</td> <td>    0.066</td>\n",
       "</tr>\n",
       "<tr>\n",
       "  <th>telomere_length</th>                                <td>   -0.0100</td> <td>    0.050</td> <td>   -0.199</td> <td> 0.842</td> <td>   -0.109</td> <td>    0.089</td>\n",
       "</tr>\n",
       "<tr>\n",
       "  <th>ace_score</th>                                      <td>    0.2294</td> <td>    0.219</td> <td>    1.045</td> <td> 0.296</td> <td>   -0.201</td> <td>    0.659</td>\n",
       "</tr>\n",
       "<tr>\n",
       "  <th>average_sleep</th>                                  <td>    0.1574</td> <td>    0.252</td> <td>    0.625</td> <td> 0.532</td> <td>   -0.336</td> <td>    0.651</td>\n",
       "</tr>\n",
       "</table>"
      ],
      "text/latex": [
       "\\begin{center}\n",
       "\\begin{tabular}{lclc}\n",
       "\\toprule\n",
       "\\textbf{Dep. Variable:}                                  &  hamd\\_response  & \\textbf{  No. Observations:  } &       64    \\\\\n",
       "\\textbf{Model:}                                          &      Logit       & \\textbf{  Df Residuals:      } &       48    \\\\\n",
       "\\textbf{Method:}                                         &       MLE        & \\textbf{  Df Model:          } &       15    \\\\\n",
       "\\textbf{Date:}                                           & Tue, 10 Jun 2025 & \\textbf{  Pseudo R-squ.:     } &   0.3959    \\\\\n",
       "\\textbf{Time:}                                           &     14:45:43     & \\textbf{  Log-Likelihood:    } &   -25.866   \\\\\n",
       "\\textbf{converged:}                                      &       True       & \\textbf{  LL-Null:           } &   -42.818   \\\\\n",
       "\\textbf{Covariance Type:}                                &    nonrobust     & \\textbf{  LLR p-value:       } &  0.003512   \\\\\n",
       "\\bottomrule\n",
       "\\end{tabular}\n",
       "\\begin{tabular}{lcccccc}\n",
       "                                                         & \\textbf{coef} & \\textbf{std err} & \\textbf{z} & \\textbf{P$> |$z$|$} & \\textbf{[0.025} & \\textbf{0.975]}  \\\\\n",
       "\\midrule\n",
       "\\textbf{Intercept}                                       &      -1.5675  &        2.637     &    -0.594  &         0.552        &       -6.735    &        3.600     \\\\\n",
       "\\textbf{C(sex)[T.2]}                                     &      -0.7977  &        0.887     &    -0.899  &         0.368        &       -2.536    &        0.941     \\\\\n",
       "\\textbf{C(treatment\\_mode, Treatment(reference=3))[T.1]} &      -4.0788  &        1.404     &    -2.905  &         0.004        &       -6.831    &       -1.326     \\\\\n",
       "\\textbf{C(treatment\\_mode, Treatment(reference=3))[T.2]} &       2.0564  &        1.242     &     1.655  &         0.098        &       -0.379    &        4.492     \\\\\n",
       "\\textbf{C(bmi\\_asian, Treatment(reference=2))[T.1]}      &       0.4131  &        1.719     &     0.240  &         0.810        &       -2.957    &        3.783     \\\\\n",
       "\\textbf{C(bmi\\_asian, Treatment(reference=2))[T.3]}      &      -0.0867  &        1.224     &    -0.071  &         0.944        &       -2.486    &        2.313     \\\\\n",
       "\\textbf{C(bmi\\_asian, Treatment(reference=2))[T.4]}      &      -3.2422  &        1.872     &    -1.732  &         0.083        &       -6.912    &        0.428     \\\\\n",
       "\\textbf{C(ses, Treatment(reference=4))[T.1]}             &       2.0718  &        1.491     &     1.389  &         0.165        &       -0.851    &        4.994     \\\\\n",
       "\\textbf{C(ses, Treatment(reference=4))[T.2]}             &       2.1843  &        1.192     &     1.832  &         0.067        &       -0.152    &        4.521     \\\\\n",
       "\\textbf{C(ses, Treatment(reference=4))[T.3]}             &       2.0483  &        1.192     &     1.719  &         0.086        &       -0.287    &        4.384     \\\\\n",
       "\\textbf{C(ses, Treatment(reference=4))[T.5]}             &       0.9355  &        1.482     &     0.631  &         0.528        &       -1.968    &        3.839     \\\\\n",
       "\\textbf{C(ses, Treatment(reference=4))[T.6]}             &       2.5411  &        3.424     &     0.742  &         0.458        &       -4.171    &        9.253     \\\\\n",
       "\\textbf{age}                                             &      -0.0192  &        0.043     &    -0.441  &         0.659        &       -0.104    &        0.066     \\\\\n",
       "\\textbf{telomere\\_length}                                &      -0.0100  &        0.050     &    -0.199  &         0.842        &       -0.109    &        0.089     \\\\\n",
       "\\textbf{ace\\_score}                                      &       0.2294  &        0.219     &     1.045  &         0.296        &       -0.201    &        0.659     \\\\\n",
       "\\textbf{average\\_sleep}                                  &       0.1574  &        0.252     &     0.625  &         0.532        &       -0.336    &        0.651     \\\\\n",
       "\\bottomrule\n",
       "\\end{tabular}\n",
       "%\\caption{Logit Regression Results}\n",
       "\\end{center}"
      ],
      "text/plain": [
       "<class 'statsmodels.iolib.summary.Summary'>\n",
       "\"\"\"\n",
       "                           Logit Regression Results                           \n",
       "==============================================================================\n",
       "Dep. Variable:          hamd_response   No. Observations:                   64\n",
       "Model:                          Logit   Df Residuals:                       48\n",
       "Method:                           MLE   Df Model:                           15\n",
       "Date:                Tue, 10 Jun 2025   Pseudo R-squ.:                  0.3959\n",
       "Time:                        14:45:43   Log-Likelihood:                -25.866\n",
       "converged:                       True   LL-Null:                       -42.818\n",
       "Covariance Type:            nonrobust   LLR p-value:                  0.003512\n",
       "==================================================================================================================\n",
       "                                                     coef    std err          z      P>|z|      [0.025      0.975]\n",
       "------------------------------------------------------------------------------------------------------------------\n",
       "Intercept                                         -1.5675      2.637     -0.594      0.552      -6.735       3.600\n",
       "C(sex)[T.2]                                       -0.7977      0.887     -0.899      0.368      -2.536       0.941\n",
       "C(treatment_mode, Treatment(reference=3))[T.1]    -4.0788      1.404     -2.905      0.004      -6.831      -1.326\n",
       "C(treatment_mode, Treatment(reference=3))[T.2]     2.0564      1.242      1.655      0.098      -0.379       4.492\n",
       "C(bmi_asian, Treatment(reference=2))[T.1]          0.4131      1.719      0.240      0.810      -2.957       3.783\n",
       "C(bmi_asian, Treatment(reference=2))[T.3]         -0.0867      1.224     -0.071      0.944      -2.486       2.313\n",
       "C(bmi_asian, Treatment(reference=2))[T.4]         -3.2422      1.872     -1.732      0.083      -6.912       0.428\n",
       "C(ses, Treatment(reference=4))[T.1]                2.0718      1.491      1.389      0.165      -0.851       4.994\n",
       "C(ses, Treatment(reference=4))[T.2]                2.1843      1.192      1.832      0.067      -0.152       4.521\n",
       "C(ses, Treatment(reference=4))[T.3]                2.0483      1.192      1.719      0.086      -0.287       4.384\n",
       "C(ses, Treatment(reference=4))[T.5]                0.9355      1.482      0.631      0.528      -1.968       3.839\n",
       "C(ses, Treatment(reference=4))[T.6]                2.5411      3.424      0.742      0.458      -4.171       9.253\n",
       "age                                               -0.0192      0.043     -0.441      0.659      -0.104       0.066\n",
       "telomere_length                                   -0.0100      0.050     -0.199      0.842      -0.109       0.089\n",
       "ace_score                                          0.2294      0.219      1.045      0.296      -0.201       0.659\n",
       "average_sleep                                      0.1574      0.252      0.625      0.532      -0.336       0.651\n",
       "==================================================================================================================\n",
       "\"\"\""
      ]
     },
     "execution_count": 69,
     "metadata": {},
     "output_type": "execute_result"
    }
   ],
   "source": [
    "hamd_result.summary()"
   ]
  },
  {
   "cell_type": "code",
   "execution_count": 70,
   "id": "34cbb5c6",
   "metadata": {},
   "outputs": [],
   "source": [
    "hamd_odds_ratio = np.exp(hamd_result.params)"
   ]
  },
  {
   "cell_type": "code",
   "execution_count": 71,
   "id": "a7c3718e",
   "metadata": {},
   "outputs": [
    {
     "data": {
      "text/plain": [
       "Intercept                                          0.208572\n",
       "C(sex)[T.2]                                        0.450345\n",
       "C(treatment_mode, Treatment(reference=3))[T.1]     0.016928\n",
       "C(treatment_mode, Treatment(reference=3))[T.2]     7.817893\n",
       "C(bmi_asian, Treatment(reference=2))[T.1]          1.511487\n",
       "C(bmi_asian, Treatment(reference=2))[T.3]          0.916992\n",
       "C(bmi_asian, Treatment(reference=2))[T.4]          0.039076\n",
       "C(ses, Treatment(reference=4))[T.1]                7.939070\n",
       "C(ses, Treatment(reference=4))[T.2]                8.884653\n",
       "C(ses, Treatment(reference=4))[T.3]                7.754628\n",
       "C(ses, Treatment(reference=4))[T.5]                2.548421\n",
       "C(ses, Treatment(reference=4))[T.6]               12.693169\n",
       "age                                                0.981030\n",
       "telomere_length                                    0.990006\n",
       "ace_score                                          1.257785\n",
       "average_sleep                                      1.170405\n",
       "dtype: float64"
      ]
     },
     "execution_count": 71,
     "metadata": {},
     "output_type": "execute_result"
    }
   ],
   "source": [
    "hamd_odds_ratio"
   ]
  },
  {
   "cell_type": "markdown",
   "id": "fad4994c",
   "metadata": {},
   "source": [
    "<h2>PHQ-9 Response</h2>"
   ]
  },
  {
   "cell_type": "code",
   "execution_count": 77,
   "id": "ca2f0e86",
   "metadata": {},
   "outputs": [],
   "source": [
    "phq9_log_res_model = smf.logit(\n",
    "    formula=\"phq9_response ~ age + telomere_length + ace_score + average_sleep + C(sex) + C(treatment_mode, Treatment(reference=3)) + C(bmi_asian, Treatment(reference=2)) + C(ses, Treatment(reference=4))\",\n",
    "    data=log_res_temp,\n",
    ")"
   ]
  },
  {
   "cell_type": "code",
   "execution_count": 90,
   "id": "5771a4fc",
   "metadata": {},
   "outputs": [
    {
     "name": "stdout",
     "output_type": "stream",
     "text": [
      "Optimization terminated successfully.\n",
      "         Current function value: 0.490189\n",
      "         Iterations: 103\n",
      "         Function evaluations: 107\n",
      "         Gradient evaluations: 107\n"
     ]
    }
   ],
   "source": [
    "phq9_result = phq9_log_res_model.fit(method=\"bfgs\", maxiter=1000)"
   ]
  },
  {
   "cell_type": "code",
   "execution_count": 91,
   "id": "bce7ec3a",
   "metadata": {},
   "outputs": [
    {
     "data": {
      "text/html": [
       "<table class=\"simpletable\">\n",
       "<caption>Logit Regression Results</caption>\n",
       "<tr>\n",
       "  <th>Dep. Variable:</th>     <td>phq9_response</td>  <th>  No. Observations:  </th>  <td>    64</td> \n",
       "</tr>\n",
       "<tr>\n",
       "  <th>Model:</th>                 <td>Logit</td>      <th>  Df Residuals:      </th>  <td>    48</td> \n",
       "</tr>\n",
       "<tr>\n",
       "  <th>Method:</th>                 <td>MLE</td>       <th>  Df Model:          </th>  <td>    15</td> \n",
       "</tr>\n",
       "<tr>\n",
       "  <th>Date:</th>            <td>Tue, 10 Jun 2025</td> <th>  Pseudo R-squ.:     </th>  <td>0.2382</td> \n",
       "</tr>\n",
       "<tr>\n",
       "  <th>Time:</th>                <td>14:58:41</td>     <th>  Log-Likelihood:    </th> <td> -31.372</td>\n",
       "</tr>\n",
       "<tr>\n",
       "  <th>converged:</th>             <td>True</td>       <th>  LL-Null:           </th> <td> -41.183</td>\n",
       "</tr>\n",
       "<tr>\n",
       "  <th>Covariance Type:</th>     <td>nonrobust</td>    <th>  LLR p-value:       </th>  <td>0.1869</td> \n",
       "</tr>\n",
       "</table>\n",
       "<table class=\"simpletable\">\n",
       "<tr>\n",
       "                         <td></td>                           <th>coef</th>     <th>std err</th>      <th>z</th>      <th>P>|z|</th>  <th>[0.025</th>    <th>0.975]</th>  \n",
       "</tr>\n",
       "<tr>\n",
       "  <th>Intercept</th>                                      <td>    1.4471</td> <td>    2.349</td> <td>    0.616</td> <td> 0.538</td> <td>   -3.157</td> <td>    6.051</td>\n",
       "</tr>\n",
       "<tr>\n",
       "  <th>C(sex)[T.2]</th>                                    <td>   -0.2756</td> <td>    0.749</td> <td>   -0.368</td> <td> 0.713</td> <td>   -1.743</td> <td>    1.192</td>\n",
       "</tr>\n",
       "<tr>\n",
       "  <th>C(treatment_mode, Treatment(reference=3))[T.1]</th> <td>   -1.4582</td> <td>    0.777</td> <td>   -1.877</td> <td> 0.061</td> <td>   -2.981</td> <td>    0.064</td>\n",
       "</tr>\n",
       "<tr>\n",
       "  <th>C(treatment_mode, Treatment(reference=3))[T.2]</th> <td>    1.3439</td> <td>    1.257</td> <td>    1.069</td> <td> 0.285</td> <td>   -1.119</td> <td>    3.807</td>\n",
       "</tr>\n",
       "<tr>\n",
       "  <th>C(bmi_asian, Treatment(reference=2))[T.1]</th>      <td>   14.0380</td> <td> 1436.582</td> <td>    0.010</td> <td> 0.992</td> <td>-2801.611</td> <td> 2829.687</td>\n",
       "</tr>\n",
       "<tr>\n",
       "  <th>C(bmi_asian, Treatment(reference=2))[T.3]</th>      <td>   -0.5620</td> <td>    1.191</td> <td>   -0.472</td> <td> 0.637</td> <td>   -2.897</td> <td>    1.773</td>\n",
       "</tr>\n",
       "<tr>\n",
       "  <th>C(bmi_asian, Treatment(reference=2))[T.4]</th>      <td>   -0.5391</td> <td>    1.591</td> <td>   -0.339</td> <td> 0.735</td> <td>   -3.657</td> <td>    2.579</td>\n",
       "</tr>\n",
       "<tr>\n",
       "  <th>C(ses, Treatment(reference=4))[T.1]</th>            <td>   -0.5444</td> <td>    1.278</td> <td>   -0.426</td> <td> 0.670</td> <td>   -3.050</td> <td>    1.961</td>\n",
       "</tr>\n",
       "<tr>\n",
       "  <th>C(ses, Treatment(reference=4))[T.2]</th>            <td>    1.2499</td> <td>    1.004</td> <td>    1.245</td> <td> 0.213</td> <td>   -0.718</td> <td>    3.218</td>\n",
       "</tr>\n",
       "<tr>\n",
       "  <th>C(ses, Treatment(reference=4))[T.3]</th>            <td>    0.8505</td> <td>    1.042</td> <td>    0.816</td> <td> 0.415</td> <td>   -1.193</td> <td>    2.894</td>\n",
       "</tr>\n",
       "<tr>\n",
       "  <th>C(ses, Treatment(reference=4))[T.5]</th>            <td>   -0.3699</td> <td>    1.347</td> <td>   -0.275</td> <td> 0.784</td> <td>   -3.009</td> <td>    2.269</td>\n",
       "</tr>\n",
       "<tr>\n",
       "  <th>C(ses, Treatment(reference=4))[T.6]</th>            <td>   23.4627</td> <td> 3.56e+04</td> <td>    0.001</td> <td> 0.999</td> <td>-6.97e+04</td> <td> 6.97e+04</td>\n",
       "</tr>\n",
       "<tr>\n",
       "  <th>age</th>                                            <td>   -0.0281</td> <td>    0.043</td> <td>   -0.656</td> <td> 0.512</td> <td>   -0.112</td> <td>    0.056</td>\n",
       "</tr>\n",
       "<tr>\n",
       "  <th>telomere_length</th>                                <td>    0.0397</td> <td>    0.042</td> <td>    0.943</td> <td> 0.346</td> <td>   -0.043</td> <td>    0.122</td>\n",
       "</tr>\n",
       "<tr>\n",
       "  <th>ace_score</th>                                      <td>    0.1657</td> <td>    0.184</td> <td>    0.899</td> <td> 0.369</td> <td>   -0.196</td> <td>    0.527</td>\n",
       "</tr>\n",
       "<tr>\n",
       "  <th>average_sleep</th>                                  <td>   -0.1095</td> <td>    0.193</td> <td>   -0.567</td> <td> 0.571</td> <td>   -0.488</td> <td>    0.269</td>\n",
       "</tr>\n",
       "</table>"
      ],
      "text/latex": [
       "\\begin{center}\n",
       "\\begin{tabular}{lclc}\n",
       "\\toprule\n",
       "\\textbf{Dep. Variable:}                                  &  phq9\\_response  & \\textbf{  No. Observations:  } &       64    \\\\\n",
       "\\textbf{Model:}                                          &      Logit       & \\textbf{  Df Residuals:      } &       48    \\\\\n",
       "\\textbf{Method:}                                         &       MLE        & \\textbf{  Df Model:          } &       15    \\\\\n",
       "\\textbf{Date:}                                           & Tue, 10 Jun 2025 & \\textbf{  Pseudo R-squ.:     } &   0.2382    \\\\\n",
       "\\textbf{Time:}                                           &     14:58:41     & \\textbf{  Log-Likelihood:    } &   -31.372   \\\\\n",
       "\\textbf{converged:}                                      &       True       & \\textbf{  LL-Null:           } &   -41.183   \\\\\n",
       "\\textbf{Covariance Type:}                                &    nonrobust     & \\textbf{  LLR p-value:       } &   0.1869    \\\\\n",
       "\\bottomrule\n",
       "\\end{tabular}\n",
       "\\begin{tabular}{lcccccc}\n",
       "                                                         & \\textbf{coef} & \\textbf{std err} & \\textbf{z} & \\textbf{P$> |$z$|$} & \\textbf{[0.025} & \\textbf{0.975]}  \\\\\n",
       "\\midrule\n",
       "\\textbf{Intercept}                                       &       1.4471  &        2.349     &     0.616  &         0.538        &       -3.157    &        6.051     \\\\\n",
       "\\textbf{C(sex)[T.2]}                                     &      -0.2756  &        0.749     &    -0.368  &         0.713        &       -1.743    &        1.192     \\\\\n",
       "\\textbf{C(treatment\\_mode, Treatment(reference=3))[T.1]} &      -1.4582  &        0.777     &    -1.877  &         0.061        &       -2.981    &        0.064     \\\\\n",
       "\\textbf{C(treatment\\_mode, Treatment(reference=3))[T.2]} &       1.3439  &        1.257     &     1.069  &         0.285        &       -1.119    &        3.807     \\\\\n",
       "\\textbf{C(bmi\\_asian, Treatment(reference=2))[T.1]}      &      14.0380  &     1436.582     &     0.010  &         0.992        &    -2801.611    &     2829.687     \\\\\n",
       "\\textbf{C(bmi\\_asian, Treatment(reference=2))[T.3]}      &      -0.5620  &        1.191     &    -0.472  &         0.637        &       -2.897    &        1.773     \\\\\n",
       "\\textbf{C(bmi\\_asian, Treatment(reference=2))[T.4]}      &      -0.5391  &        1.591     &    -0.339  &         0.735        &       -3.657    &        2.579     \\\\\n",
       "\\textbf{C(ses, Treatment(reference=4))[T.1]}             &      -0.5444  &        1.278     &    -0.426  &         0.670        &       -3.050    &        1.961     \\\\\n",
       "\\textbf{C(ses, Treatment(reference=4))[T.2]}             &       1.2499  &        1.004     &     1.245  &         0.213        &       -0.718    &        3.218     \\\\\n",
       "\\textbf{C(ses, Treatment(reference=4))[T.3]}             &       0.8505  &        1.042     &     0.816  &         0.415        &       -1.193    &        2.894     \\\\\n",
       "\\textbf{C(ses, Treatment(reference=4))[T.5]}             &      -0.3699  &        1.347     &    -0.275  &         0.784        &       -3.009    &        2.269     \\\\\n",
       "\\textbf{C(ses, Treatment(reference=4))[T.6]}             &      23.4627  &     3.56e+04     &     0.001  &         0.999        &    -6.97e+04    &     6.97e+04     \\\\\n",
       "\\textbf{age}                                             &      -0.0281  &        0.043     &    -0.656  &         0.512        &       -0.112    &        0.056     \\\\\n",
       "\\textbf{telomere\\_length}                                &       0.0397  &        0.042     &     0.943  &         0.346        &       -0.043    &        0.122     \\\\\n",
       "\\textbf{ace\\_score}                                      &       0.1657  &        0.184     &     0.899  &         0.369        &       -0.196    &        0.527     \\\\\n",
       "\\textbf{average\\_sleep}                                  &      -0.1095  &        0.193     &    -0.567  &         0.571        &       -0.488    &        0.269     \\\\\n",
       "\\bottomrule\n",
       "\\end{tabular}\n",
       "%\\caption{Logit Regression Results}\n",
       "\\end{center}"
      ],
      "text/plain": [
       "<class 'statsmodels.iolib.summary.Summary'>\n",
       "\"\"\"\n",
       "                           Logit Regression Results                           \n",
       "==============================================================================\n",
       "Dep. Variable:          phq9_response   No. Observations:                   64\n",
       "Model:                          Logit   Df Residuals:                       48\n",
       "Method:                           MLE   Df Model:                           15\n",
       "Date:                Tue, 10 Jun 2025   Pseudo R-squ.:                  0.2382\n",
       "Time:                        14:58:41   Log-Likelihood:                -31.372\n",
       "converged:                       True   LL-Null:                       -41.183\n",
       "Covariance Type:            nonrobust   LLR p-value:                    0.1869\n",
       "==================================================================================================================\n",
       "                                                     coef    std err          z      P>|z|      [0.025      0.975]\n",
       "------------------------------------------------------------------------------------------------------------------\n",
       "Intercept                                          1.4471      2.349      0.616      0.538      -3.157       6.051\n",
       "C(sex)[T.2]                                       -0.2756      0.749     -0.368      0.713      -1.743       1.192\n",
       "C(treatment_mode, Treatment(reference=3))[T.1]    -1.4582      0.777     -1.877      0.061      -2.981       0.064\n",
       "C(treatment_mode, Treatment(reference=3))[T.2]     1.3439      1.257      1.069      0.285      -1.119       3.807\n",
       "C(bmi_asian, Treatment(reference=2))[T.1]         14.0380   1436.582      0.010      0.992   -2801.611    2829.687\n",
       "C(bmi_asian, Treatment(reference=2))[T.3]         -0.5620      1.191     -0.472      0.637      -2.897       1.773\n",
       "C(bmi_asian, Treatment(reference=2))[T.4]         -0.5391      1.591     -0.339      0.735      -3.657       2.579\n",
       "C(ses, Treatment(reference=4))[T.1]               -0.5444      1.278     -0.426      0.670      -3.050       1.961\n",
       "C(ses, Treatment(reference=4))[T.2]                1.2499      1.004      1.245      0.213      -0.718       3.218\n",
       "C(ses, Treatment(reference=4))[T.3]                0.8505      1.042      0.816      0.415      -1.193       2.894\n",
       "C(ses, Treatment(reference=4))[T.5]               -0.3699      1.347     -0.275      0.784      -3.009       2.269\n",
       "C(ses, Treatment(reference=4))[T.6]               23.4627   3.56e+04      0.001      0.999   -6.97e+04    6.97e+04\n",
       "age                                               -0.0281      0.043     -0.656      0.512      -0.112       0.056\n",
       "telomere_length                                    0.0397      0.042      0.943      0.346      -0.043       0.122\n",
       "ace_score                                          0.1657      0.184      0.899      0.369      -0.196       0.527\n",
       "average_sleep                                     -0.1095      0.193     -0.567      0.571      -0.488       0.269\n",
       "==================================================================================================================\n",
       "\"\"\""
      ]
     },
     "execution_count": 91,
     "metadata": {},
     "output_type": "execute_result"
    }
   ],
   "source": [
    "phq9_result.summary()"
   ]
  },
  {
   "cell_type": "code",
   "execution_count": 92,
   "id": "c7283c74",
   "metadata": {},
   "outputs": [],
   "source": [
    "phq9_odds_ratio = np.exp(phq9_result.params)"
   ]
  },
  {
   "cell_type": "code",
   "execution_count": 93,
   "id": "26591129",
   "metadata": {},
   "outputs": [
    {
     "data": {
      "text/plain": [
       "Intercept                                         4.250586e+00\n",
       "C(sex)[T.2]                                       7.591383e-01\n",
       "C(treatment_mode, Treatment(reference=3))[T.1]    2.326603e-01\n",
       "C(treatment_mode, Treatment(reference=3))[T.2]    3.833961e+00\n",
       "C(bmi_asian, Treatment(reference=2))[T.1]         1.249188e+06\n",
       "C(bmi_asian, Treatment(reference=2))[T.3]         5.700760e-01\n",
       "C(bmi_asian, Treatment(reference=2))[T.4]         5.832872e-01\n",
       "C(ses, Treatment(reference=4))[T.1]               5.801987e-01\n",
       "C(ses, Treatment(reference=4))[T.2]               3.490145e+00\n",
       "C(ses, Treatment(reference=4))[T.3]               2.340834e+00\n",
       "C(ses, Treatment(reference=4))[T.5]               6.907692e-01\n",
       "C(ses, Treatment(reference=4))[T.6]               1.547864e+10\n",
       "age                                               9.723386e-01\n",
       "telomere_length                                   1.040527e+00\n",
       "ace_score                                         1.180238e+00\n",
       "average_sleep                                     8.962694e-01\n",
       "dtype: float64"
      ]
     },
     "execution_count": 93,
     "metadata": {},
     "output_type": "execute_result"
    }
   ],
   "source": [
    "phq9_odds_ratio"
   ]
  }
 ],
 "metadata": {
  "kernelspec": {
   "display_name": ".venv",
   "language": "python",
   "name": "python3"
  },
  "language_info": {
   "codemirror_mode": {
    "name": "ipython",
    "version": 3
   },
   "file_extension": ".py",
   "mimetype": "text/x-python",
   "name": "python",
   "nbconvert_exporter": "python",
   "pygments_lexer": "ipython3",
   "version": "3.11.9"
  }
 },
 "nbformat": 4,
 "nbformat_minor": 5
}
