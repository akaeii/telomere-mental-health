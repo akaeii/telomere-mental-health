{
 "cells": [
  {
   "cell_type": "code",
   "execution_count": 1,
   "id": "89e94b57",
   "metadata": {},
   "outputs": [],
   "source": [
    "import statsmodels.formula.api as smf\n",
    "import pandas as pd\n",
    "import numpy as np"
   ]
  },
  {
   "cell_type": "markdown",
   "id": "d48b0942",
   "metadata": {},
   "source": [
    "<h1 style=\"text-align:center\">Dataset Loading</h1>"
   ]
  },
  {
   "cell_type": "code",
   "execution_count": 2,
   "id": "3fbc8518",
   "metadata": {},
   "outputs": [],
   "source": [
    "data = pd.read_excel(\"../data/Telomere MDD.xlsx\")"
   ]
  },
  {
   "cell_type": "code",
   "execution_count": 48,
   "id": "fcd02493",
   "metadata": {},
   "outputs": [],
   "source": [
    "log_res_temp = data[\n",
    "    [\n",
    "        \"hamd_response\",\n",
    "        \"phq9_response\",\n",
    "        \"sex\",\n",
    "        \"age\",\n",
    "        \"telomere_length\",\n",
    "        \"physical_activity_level\",\n",
    "        \"bmi_asian\",\n",
    "        \"ace_score\",\n",
    "        \"average_sleep\",\n",
    "        \"treatment_mode\",\n",
    "    ]\n",
    "].copy()\n",
    "\n",
    "log_res_temp[\"hamd_response\"] = log_res_temp.hamd_response.map({2: 0, 1: 1})\n",
    "log_res_temp[\"phq9_response\"] = log_res_temp.phq9_response.map({2: 0, 1: 1})"
   ]
  },
  {
   "cell_type": "markdown",
   "id": "449f2a1b",
   "metadata": {},
   "source": [
    "<h1 style=\"text-align:center\">Multiple Logistic Regression</h1>"
   ]
  },
  {
   "cell_type": "markdown",
   "id": "7d6d291d",
   "metadata": {},
   "source": [
    "<h2>HAMD Response</h2>"
   ]
  },
  {
   "cell_type": "code",
   "execution_count": 28,
   "id": "45b4cb8e",
   "metadata": {},
   "outputs": [],
   "source": [
    "hamd_log_res_model = smf.logit(\n",
    "    formula=\"hamd_response ~ age + telomere_length + ace_score + average_sleep + C(sex) + C(treatment_mode, Treatment(reference=3)) + C(bmi_asian, Treatment(reference=2))\",\n",
    "    data=log_res_temp,\n",
    ")"
   ]
  },
  {
   "cell_type": "code",
   "execution_count": 29,
   "id": "6760fff6",
   "metadata": {},
   "outputs": [
    {
     "name": "stdout",
     "output_type": "stream",
     "text": [
      "Optimization terminated successfully.\n",
      "         Current function value: 0.447645\n",
      "         Iterations 7\n"
     ]
    }
   ],
   "source": [
    "hamd_result = hamd_log_res_model.fit()"
   ]
  },
  {
   "cell_type": "code",
   "execution_count": 30,
   "id": "1cefcd82",
   "metadata": {},
   "outputs": [
    {
     "data": {
      "text/html": [
       "<table class=\"simpletable\">\n",
       "<caption>Logit Regression Results</caption>\n",
       "<tr>\n",
       "  <th>Dep. Variable:</th>     <td>hamd_response</td>  <th>  No. Observations:  </th>  <td>    64</td> \n",
       "</tr>\n",
       "<tr>\n",
       "  <th>Model:</th>                 <td>Logit</td>      <th>  Df Residuals:      </th>  <td>    53</td> \n",
       "</tr>\n",
       "<tr>\n",
       "  <th>Method:</th>                 <td>MLE</td>       <th>  Df Model:          </th>  <td>    10</td> \n",
       "</tr>\n",
       "<tr>\n",
       "  <th>Date:</th>            <td>Mon, 09 Jun 2025</td> <th>  Pseudo R-squ.:     </th>  <td>0.3309</td> \n",
       "</tr>\n",
       "<tr>\n",
       "  <th>Time:</th>                <td>08:11:54</td>     <th>  Log-Likelihood:    </th> <td> -28.649</td>\n",
       "</tr>\n",
       "<tr>\n",
       "  <th>converged:</th>             <td>True</td>       <th>  LL-Null:           </th> <td> -42.818</td>\n",
       "</tr>\n",
       "<tr>\n",
       "  <th>Covariance Type:</th>     <td>nonrobust</td>    <th>  LLR p-value:       </th> <td>0.001594</td>\n",
       "</tr>\n",
       "</table>\n",
       "<table class=\"simpletable\">\n",
       "<tr>\n",
       "                         <td></td>                           <th>coef</th>     <th>std err</th>      <th>z</th>      <th>P>|z|</th>  <th>[0.025</th>    <th>0.975]</th>  \n",
       "</tr>\n",
       "<tr>\n",
       "  <th>Intercept</th>                                      <td>   -0.0577</td> <td>    2.239</td> <td>   -0.026</td> <td> 0.979</td> <td>   -4.446</td> <td>    4.331</td>\n",
       "</tr>\n",
       "<tr>\n",
       "  <th>C(sex)[T.2]</th>                                    <td>   -0.8779</td> <td>    0.790</td> <td>   -1.112</td> <td> 0.266</td> <td>   -2.426</td> <td>    0.670</td>\n",
       "</tr>\n",
       "<tr>\n",
       "  <th>C(treatment_mode, Treatment(reference=3))[T.1]</th> <td>   -3.4940</td> <td>    1.249</td> <td>   -2.797</td> <td> 0.005</td> <td>   -5.942</td> <td>   -1.046</td>\n",
       "</tr>\n",
       "<tr>\n",
       "  <th>C(treatment_mode, Treatment(reference=3))[T.2]</th> <td>    1.6452</td> <td>    0.942</td> <td>    1.746</td> <td> 0.081</td> <td>   -0.202</td> <td>    3.492</td>\n",
       "</tr>\n",
       "<tr>\n",
       "  <th>C(bmi_asian, Treatment(reference=2))[T.1]</th>      <td>    0.1469</td> <td>    1.565</td> <td>    0.094</td> <td> 0.925</td> <td>   -2.920</td> <td>    3.214</td>\n",
       "</tr>\n",
       "<tr>\n",
       "  <th>C(bmi_asian, Treatment(reference=2))[T.3]</th>      <td>    0.4096</td> <td>    1.068</td> <td>    0.384</td> <td> 0.701</td> <td>   -1.683</td> <td>    2.503</td>\n",
       "</tr>\n",
       "<tr>\n",
       "  <th>C(bmi_asian, Treatment(reference=2))[T.4]</th>      <td>   -2.5581</td> <td>    1.451</td> <td>   -1.763</td> <td> 0.078</td> <td>   -5.403</td> <td>    0.287</td>\n",
       "</tr>\n",
       "<tr>\n",
       "  <th>age</th>                                            <td>   -0.0150</td> <td>    0.040</td> <td>   -0.371</td> <td> 0.710</td> <td>   -0.094</td> <td>    0.064</td>\n",
       "</tr>\n",
       "<tr>\n",
       "  <th>telomere_length</th>                                <td>   -0.0293</td> <td>    0.043</td> <td>   -0.684</td> <td> 0.494</td> <td>   -0.113</td> <td>    0.055</td>\n",
       "</tr>\n",
       "<tr>\n",
       "  <th>ace_score</th>                                      <td>    0.1167</td> <td>    0.194</td> <td>    0.601</td> <td> 0.548</td> <td>   -0.264</td> <td>    0.498</td>\n",
       "</tr>\n",
       "<tr>\n",
       "  <th>average_sleep</th>                                  <td>    0.2016</td> <td>    0.228</td> <td>    0.882</td> <td> 0.378</td> <td>   -0.246</td> <td>    0.649</td>\n",
       "</tr>\n",
       "</table>"
      ],
      "text/latex": [
       "\\begin{center}\n",
       "\\begin{tabular}{lclc}\n",
       "\\toprule\n",
       "\\textbf{Dep. Variable:}                                  &  hamd\\_response  & \\textbf{  No. Observations:  } &       64    \\\\\n",
       "\\textbf{Model:}                                          &      Logit       & \\textbf{  Df Residuals:      } &       53    \\\\\n",
       "\\textbf{Method:}                                         &       MLE        & \\textbf{  Df Model:          } &       10    \\\\\n",
       "\\textbf{Date:}                                           & Mon, 09 Jun 2025 & \\textbf{  Pseudo R-squ.:     } &   0.3309    \\\\\n",
       "\\textbf{Time:}                                           &     08:11:54     & \\textbf{  Log-Likelihood:    } &   -28.649   \\\\\n",
       "\\textbf{converged:}                                      &       True       & \\textbf{  LL-Null:           } &   -42.818   \\\\\n",
       "\\textbf{Covariance Type:}                                &    nonrobust     & \\textbf{  LLR p-value:       } &  0.001594   \\\\\n",
       "\\bottomrule\n",
       "\\end{tabular}\n",
       "\\begin{tabular}{lcccccc}\n",
       "                                                         & \\textbf{coef} & \\textbf{std err} & \\textbf{z} & \\textbf{P$> |$z$|$} & \\textbf{[0.025} & \\textbf{0.975]}  \\\\\n",
       "\\midrule\n",
       "\\textbf{Intercept}                                       &      -0.0577  &        2.239     &    -0.026  &         0.979        &       -4.446    &        4.331     \\\\\n",
       "\\textbf{C(sex)[T.2]}                                     &      -0.8779  &        0.790     &    -1.112  &         0.266        &       -2.426    &        0.670     \\\\\n",
       "\\textbf{C(treatment\\_mode, Treatment(reference=3))[T.1]} &      -3.4940  &        1.249     &    -2.797  &         0.005        &       -5.942    &       -1.046     \\\\\n",
       "\\textbf{C(treatment\\_mode, Treatment(reference=3))[T.2]} &       1.6452  &        0.942     &     1.746  &         0.081        &       -0.202    &        3.492     \\\\\n",
       "\\textbf{C(bmi\\_asian, Treatment(reference=2))[T.1]}      &       0.1469  &        1.565     &     0.094  &         0.925        &       -2.920    &        3.214     \\\\\n",
       "\\textbf{C(bmi\\_asian, Treatment(reference=2))[T.3]}      &       0.4096  &        1.068     &     0.384  &         0.701        &       -1.683    &        2.503     \\\\\n",
       "\\textbf{C(bmi\\_asian, Treatment(reference=2))[T.4]}      &      -2.5581  &        1.451     &    -1.763  &         0.078        &       -5.403    &        0.287     \\\\\n",
       "\\textbf{age}                                             &      -0.0150  &        0.040     &    -0.371  &         0.710        &       -0.094    &        0.064     \\\\\n",
       "\\textbf{telomere\\_length}                                &      -0.0293  &        0.043     &    -0.684  &         0.494        &       -0.113    &        0.055     \\\\\n",
       "\\textbf{ace\\_score}                                      &       0.1167  &        0.194     &     0.601  &         0.548        &       -0.264    &        0.498     \\\\\n",
       "\\textbf{average\\_sleep}                                  &       0.2016  &        0.228     &     0.882  &         0.378        &       -0.246    &        0.649     \\\\\n",
       "\\bottomrule\n",
       "\\end{tabular}\n",
       "%\\caption{Logit Regression Results}\n",
       "\\end{center}"
      ],
      "text/plain": [
       "<class 'statsmodels.iolib.summary.Summary'>\n",
       "\"\"\"\n",
       "                           Logit Regression Results                           \n",
       "==============================================================================\n",
       "Dep. Variable:          hamd_response   No. Observations:                   64\n",
       "Model:                          Logit   Df Residuals:                       53\n",
       "Method:                           MLE   Df Model:                           10\n",
       "Date:                Mon, 09 Jun 2025   Pseudo R-squ.:                  0.3309\n",
       "Time:                        08:11:54   Log-Likelihood:                -28.649\n",
       "converged:                       True   LL-Null:                       -42.818\n",
       "Covariance Type:            nonrobust   LLR p-value:                  0.001594\n",
       "==================================================================================================================\n",
       "                                                     coef    std err          z      P>|z|      [0.025      0.975]\n",
       "------------------------------------------------------------------------------------------------------------------\n",
       "Intercept                                         -0.0577      2.239     -0.026      0.979      -4.446       4.331\n",
       "C(sex)[T.2]                                       -0.8779      0.790     -1.112      0.266      -2.426       0.670\n",
       "C(treatment_mode, Treatment(reference=3))[T.1]    -3.4940      1.249     -2.797      0.005      -5.942      -1.046\n",
       "C(treatment_mode, Treatment(reference=3))[T.2]     1.6452      0.942      1.746      0.081      -0.202       3.492\n",
       "C(bmi_asian, Treatment(reference=2))[T.1]          0.1469      1.565      0.094      0.925      -2.920       3.214\n",
       "C(bmi_asian, Treatment(reference=2))[T.3]          0.4096      1.068      0.384      0.701      -1.683       2.503\n",
       "C(bmi_asian, Treatment(reference=2))[T.4]         -2.5581      1.451     -1.763      0.078      -5.403       0.287\n",
       "age                                               -0.0150      0.040     -0.371      0.710      -0.094       0.064\n",
       "telomere_length                                   -0.0293      0.043     -0.684      0.494      -0.113       0.055\n",
       "ace_score                                          0.1167      0.194      0.601      0.548      -0.264       0.498\n",
       "average_sleep                                      0.2016      0.228      0.882      0.378      -0.246       0.649\n",
       "==================================================================================================================\n",
       "\"\"\""
      ]
     },
     "execution_count": 30,
     "metadata": {},
     "output_type": "execute_result"
    }
   ],
   "source": [
    "hamd_result.summary()"
   ]
  },
  {
   "cell_type": "code",
   "execution_count": 31,
   "id": "34cbb5c6",
   "metadata": {},
   "outputs": [],
   "source": [
    "hamd_odds_ratio = np.exp(hamd_result.params)"
   ]
  },
  {
   "cell_type": "code",
   "execution_count": 32,
   "id": "a7c3718e",
   "metadata": {},
   "outputs": [
    {
     "data": {
      "text/plain": [
       "Intercept                                         0.943952\n",
       "C(sex)[T.2]                                       0.415667\n",
       "C(treatment_mode, Treatment(reference=3))[T.1]    0.030380\n",
       "C(treatment_mode, Treatment(reference=3))[T.2]    5.182066\n",
       "C(bmi_asian, Treatment(reference=2))[T.1]         1.158288\n",
       "C(bmi_asian, Treatment(reference=2))[T.3]         1.506207\n",
       "C(bmi_asian, Treatment(reference=2))[T.4]         0.077455\n",
       "age                                               0.985081\n",
       "telomere_length                                   0.971170\n",
       "ace_score                                         1.123791\n",
       "average_sleep                                     1.223302\n",
       "dtype: float64"
      ]
     },
     "execution_count": 32,
     "metadata": {},
     "output_type": "execute_result"
    }
   ],
   "source": [
    "hamd_odds_ratio"
   ]
  },
  {
   "cell_type": "markdown",
   "id": "fad4994c",
   "metadata": {},
   "source": [
    "<h2>PHQ-9 Response</h2>"
   ]
  },
  {
   "cell_type": "code",
   "execution_count": 51,
   "id": "ca2f0e86",
   "metadata": {},
   "outputs": [],
   "source": [
    "phq9_log_res_model = smf.logit(\n",
    "    formula=\"phq9_response ~ age + telomere_length + ace_score + average_sleep + C(sex) + C(treatment_mode, Treatment(reference=3)) + C(bmi_asian, Treatment(reference=2))\",\n",
    "    data=log_res_temp,\n",
    ")"
   ]
  },
  {
   "cell_type": "code",
   "execution_count": 59,
   "id": "5771a4fc",
   "metadata": {},
   "outputs": [
    {
     "name": "stdout",
     "output_type": "stream",
     "text": [
      "Optimization terminated successfully.\n",
      "         Current function value: 0.535265\n",
      "         Iterations: 77\n",
      "         Function evaluations: 81\n",
      "         Gradient evaluations: 81\n"
     ]
    }
   ],
   "source": [
    "phq9_result = phq9_log_res_model.fit(method=\"bfgs\", maxiter=100)"
   ]
  },
  {
   "cell_type": "code",
   "execution_count": 60,
   "id": "bce7ec3a",
   "metadata": {},
   "outputs": [
    {
     "data": {
      "text/html": [
       "<table class=\"simpletable\">\n",
       "<caption>Logit Regression Results</caption>\n",
       "<tr>\n",
       "  <th>Dep. Variable:</th>     <td>phq9_response</td>  <th>  No. Observations:  </th>  <td>    64</td> \n",
       "</tr>\n",
       "<tr>\n",
       "  <th>Model:</th>                 <td>Logit</td>      <th>  Df Residuals:      </th>  <td>    53</td> \n",
       "</tr>\n",
       "<tr>\n",
       "  <th>Method:</th>                 <td>MLE</td>       <th>  Df Model:          </th>  <td>    10</td> \n",
       "</tr>\n",
       "<tr>\n",
       "  <th>Date:</th>            <td>Mon, 09 Jun 2025</td> <th>  Pseudo R-squ.:     </th>  <td>0.1682</td> \n",
       "</tr>\n",
       "<tr>\n",
       "  <th>Time:</th>                <td>08:27:17</td>     <th>  Log-Likelihood:    </th> <td> -34.257</td>\n",
       "</tr>\n",
       "<tr>\n",
       "  <th>converged:</th>             <td>True</td>       <th>  LL-Null:           </th> <td> -41.183</td>\n",
       "</tr>\n",
       "<tr>\n",
       "  <th>Covariance Type:</th>     <td>nonrobust</td>    <th>  LLR p-value:       </th>  <td>0.1798</td> \n",
       "</tr>\n",
       "</table>\n",
       "<table class=\"simpletable\">\n",
       "<tr>\n",
       "                         <td></td>                           <th>coef</th>     <th>std err</th>      <th>z</th>      <th>P>|z|</th>  <th>[0.025</th>    <th>0.975]</th>  \n",
       "</tr>\n",
       "<tr>\n",
       "  <th>Intercept</th>                                      <td>    1.9371</td> <td>    2.029</td> <td>    0.955</td> <td> 0.340</td> <td>   -2.039</td> <td>    5.914</td>\n",
       "</tr>\n",
       "<tr>\n",
       "  <th>C(sex)[T.2]</th>                                    <td>   -0.2869</td> <td>    0.679</td> <td>   -0.423</td> <td> 0.672</td> <td>   -1.617</td> <td>    1.043</td>\n",
       "</tr>\n",
       "<tr>\n",
       "  <th>C(treatment_mode, Treatment(reference=3))[T.1]</th> <td>   -0.9356</td> <td>    0.670</td> <td>   -1.396</td> <td> 0.163</td> <td>   -2.249</td> <td>    0.378</td>\n",
       "</tr>\n",
       "<tr>\n",
       "  <th>C(treatment_mode, Treatment(reference=3))[T.2]</th> <td>    1.7165</td> <td>    1.181</td> <td>    1.453</td> <td> 0.146</td> <td>   -0.599</td> <td>    4.032</td>\n",
       "</tr>\n",
       "<tr>\n",
       "  <th>C(bmi_asian, Treatment(reference=2))[T.1]</th>      <td>   17.2688</td> <td> 6469.274</td> <td>    0.003</td> <td> 0.998</td> <td>-1.27e+04</td> <td> 1.27e+04</td>\n",
       "</tr>\n",
       "<tr>\n",
       "  <th>C(bmi_asian, Treatment(reference=2))[T.3]</th>      <td>    0.4875</td> <td>    1.006</td> <td>    0.485</td> <td> 0.628</td> <td>   -1.483</td> <td>    2.459</td>\n",
       "</tr>\n",
       "<tr>\n",
       "  <th>C(bmi_asian, Treatment(reference=2))[T.4]</th>      <td>   -0.6798</td> <td>    1.393</td> <td>   -0.488</td> <td> 0.626</td> <td>   -3.410</td> <td>    2.050</td>\n",
       "</tr>\n",
       "<tr>\n",
       "  <th>age</th>                                            <td>   -0.0294</td> <td>    0.039</td> <td>   -0.753</td> <td> 0.451</td> <td>   -0.106</td> <td>    0.047</td>\n",
       "</tr>\n",
       "<tr>\n",
       "  <th>telomere_length</th>                                <td>    0.0131</td> <td>    0.034</td> <td>    0.383</td> <td> 0.702</td> <td>   -0.054</td> <td>    0.080</td>\n",
       "</tr>\n",
       "<tr>\n",
       "  <th>ace_score</th>                                      <td>    0.0746</td> <td>    0.150</td> <td>    0.498</td> <td> 0.619</td> <td>   -0.219</td> <td>    0.369</td>\n",
       "</tr>\n",
       "<tr>\n",
       "  <th>average_sleep</th>                                  <td>   -0.0595</td> <td>    0.176</td> <td>   -0.339</td> <td> 0.735</td> <td>   -0.404</td> <td>    0.285</td>\n",
       "</tr>\n",
       "</table>"
      ],
      "text/latex": [
       "\\begin{center}\n",
       "\\begin{tabular}{lclc}\n",
       "\\toprule\n",
       "\\textbf{Dep. Variable:}                                  &  phq9\\_response  & \\textbf{  No. Observations:  } &       64    \\\\\n",
       "\\textbf{Model:}                                          &      Logit       & \\textbf{  Df Residuals:      } &       53    \\\\\n",
       "\\textbf{Method:}                                         &       MLE        & \\textbf{  Df Model:          } &       10    \\\\\n",
       "\\textbf{Date:}                                           & Mon, 09 Jun 2025 & \\textbf{  Pseudo R-squ.:     } &   0.1682    \\\\\n",
       "\\textbf{Time:}                                           &     08:27:17     & \\textbf{  Log-Likelihood:    } &   -34.257   \\\\\n",
       "\\textbf{converged:}                                      &       True       & \\textbf{  LL-Null:           } &   -41.183   \\\\\n",
       "\\textbf{Covariance Type:}                                &    nonrobust     & \\textbf{  LLR p-value:       } &   0.1798    \\\\\n",
       "\\bottomrule\n",
       "\\end{tabular}\n",
       "\\begin{tabular}{lcccccc}\n",
       "                                                         & \\textbf{coef} & \\textbf{std err} & \\textbf{z} & \\textbf{P$> |$z$|$} & \\textbf{[0.025} & \\textbf{0.975]}  \\\\\n",
       "\\midrule\n",
       "\\textbf{Intercept}                                       &       1.9371  &        2.029     &     0.955  &         0.340        &       -2.039    &        5.914     \\\\\n",
       "\\textbf{C(sex)[T.2]}                                     &      -0.2869  &        0.679     &    -0.423  &         0.672        &       -1.617    &        1.043     \\\\\n",
       "\\textbf{C(treatment\\_mode, Treatment(reference=3))[T.1]} &      -0.9356  &        0.670     &    -1.396  &         0.163        &       -2.249    &        0.378     \\\\\n",
       "\\textbf{C(treatment\\_mode, Treatment(reference=3))[T.2]} &       1.7165  &        1.181     &     1.453  &         0.146        &       -0.599    &        4.032     \\\\\n",
       "\\textbf{C(bmi\\_asian, Treatment(reference=2))[T.1]}      &      17.2688  &     6469.274     &     0.003  &         0.998        &    -1.27e+04    &     1.27e+04     \\\\\n",
       "\\textbf{C(bmi\\_asian, Treatment(reference=2))[T.3]}      &       0.4875  &        1.006     &     0.485  &         0.628        &       -1.483    &        2.459     \\\\\n",
       "\\textbf{C(bmi\\_asian, Treatment(reference=2))[T.4]}      &      -0.6798  &        1.393     &    -0.488  &         0.626        &       -3.410    &        2.050     \\\\\n",
       "\\textbf{age}                                             &      -0.0294  &        0.039     &    -0.753  &         0.451        &       -0.106    &        0.047     \\\\\n",
       "\\textbf{telomere\\_length}                                &       0.0131  &        0.034     &     0.383  &         0.702        &       -0.054    &        0.080     \\\\\n",
       "\\textbf{ace\\_score}                                      &       0.0746  &        0.150     &     0.498  &         0.619        &       -0.219    &        0.369     \\\\\n",
       "\\textbf{average\\_sleep}                                  &      -0.0595  &        0.176     &    -0.339  &         0.735        &       -0.404    &        0.285     \\\\\n",
       "\\bottomrule\n",
       "\\end{tabular}\n",
       "%\\caption{Logit Regression Results}\n",
       "\\end{center}"
      ],
      "text/plain": [
       "<class 'statsmodels.iolib.summary.Summary'>\n",
       "\"\"\"\n",
       "                           Logit Regression Results                           \n",
       "==============================================================================\n",
       "Dep. Variable:          phq9_response   No. Observations:                   64\n",
       "Model:                          Logit   Df Residuals:                       53\n",
       "Method:                           MLE   Df Model:                           10\n",
       "Date:                Mon, 09 Jun 2025   Pseudo R-squ.:                  0.1682\n",
       "Time:                        08:27:17   Log-Likelihood:                -34.257\n",
       "converged:                       True   LL-Null:                       -41.183\n",
       "Covariance Type:            nonrobust   LLR p-value:                    0.1798\n",
       "==================================================================================================================\n",
       "                                                     coef    std err          z      P>|z|      [0.025      0.975]\n",
       "------------------------------------------------------------------------------------------------------------------\n",
       "Intercept                                          1.9371      2.029      0.955      0.340      -2.039       5.914\n",
       "C(sex)[T.2]                                       -0.2869      0.679     -0.423      0.672      -1.617       1.043\n",
       "C(treatment_mode, Treatment(reference=3))[T.1]    -0.9356      0.670     -1.396      0.163      -2.249       0.378\n",
       "C(treatment_mode, Treatment(reference=3))[T.2]     1.7165      1.181      1.453      0.146      -0.599       4.032\n",
       "C(bmi_asian, Treatment(reference=2))[T.1]         17.2688   6469.274      0.003      0.998   -1.27e+04    1.27e+04\n",
       "C(bmi_asian, Treatment(reference=2))[T.3]          0.4875      1.006      0.485      0.628      -1.483       2.459\n",
       "C(bmi_asian, Treatment(reference=2))[T.4]         -0.6798      1.393     -0.488      0.626      -3.410       2.050\n",
       "age                                               -0.0294      0.039     -0.753      0.451      -0.106       0.047\n",
       "telomere_length                                    0.0131      0.034      0.383      0.702      -0.054       0.080\n",
       "ace_score                                          0.0746      0.150      0.498      0.619      -0.219       0.369\n",
       "average_sleep                                     -0.0595      0.176     -0.339      0.735      -0.404       0.285\n",
       "==================================================================================================================\n",
       "\"\"\""
      ]
     },
     "execution_count": 60,
     "metadata": {},
     "output_type": "execute_result"
    }
   ],
   "source": [
    "phq9_result.summary()"
   ]
  },
  {
   "cell_type": "code",
   "execution_count": 61,
   "id": "c7283c74",
   "metadata": {},
   "outputs": [],
   "source": [
    "phq9_odds_ratio = np.exp(phq9_result.params)"
   ]
  },
  {
   "cell_type": "code",
   "execution_count": 62,
   "id": "26591129",
   "metadata": {},
   "outputs": [
    {
     "data": {
      "text/plain": [
       "Intercept                                         6.938655e+00\n",
       "C(sex)[T.2]                                       7.505788e-01\n",
       "C(treatment_mode, Treatment(reference=3))[T.1]    3.923596e-01\n",
       "C(treatment_mode, Treatment(reference=3))[T.2]    5.564837e+00\n",
       "C(bmi_asian, Treatment(reference=2))[T.1]         3.160433e+07\n",
       "C(bmi_asian, Treatment(reference=2))[T.3]         1.628278e+00\n",
       "C(bmi_asian, Treatment(reference=2))[T.4]         5.067279e-01\n",
       "age                                               9.710071e-01\n",
       "telomere_length                                   1.013137e+00\n",
       "ace_score                                         1.077503e+00\n",
       "average_sleep                                     9.422597e-01\n",
       "dtype: float64"
      ]
     },
     "execution_count": 62,
     "metadata": {},
     "output_type": "execute_result"
    }
   ],
   "source": [
    "phq9_odds_ratio"
   ]
  }
 ],
 "metadata": {
  "kernelspec": {
   "display_name": ".venv",
   "language": "python",
   "name": "python3"
  },
  "language_info": {
   "codemirror_mode": {
    "name": "ipython",
    "version": 3
   },
   "file_extension": ".py",
   "mimetype": "text/x-python",
   "name": "python",
   "nbconvert_exporter": "python",
   "pygments_lexer": "ipython3",
   "version": "3.11.9"
  }
 },
 "nbformat": 4,
 "nbformat_minor": 5
}
