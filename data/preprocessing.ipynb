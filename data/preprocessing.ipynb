{
 "cells": [
  {
   "cell_type": "code",
   "execution_count": 1,
   "id": "4c4f7ae3",
   "metadata": {},
   "outputs": [],
   "source": [
    "import pandas as pd"
   ]
  },
  {
   "cell_type": "code",
   "execution_count": 2,
   "id": "b3bd92f3",
   "metadata": {},
   "outputs": [],
   "source": [
    "data = pd.read_excel(\"Telomere MDD.xlsx\")"
   ]
  },
  {
   "cell_type": "markdown",
   "id": "f8d8e339",
   "metadata": {},
   "source": [
    "HAMD Response Prediction\n",
    "\n",
    "The following are removed...\n",
    "- HAMD 4th, 6th, and 8th week data\n",
    "- PHQ9 data\n",
    "- PSS data\n",
    "- `ace_score` column\n",
    "- Non-binary categorical columns\n",
    "    - `civil_status`\n",
    "    - `employ_stat`\n",
    "    - `prohibited_drug_type`\n",
    "- \"others\" columns\n",
    "    - `other_disease`\n",
    "    - `other_disease_fh`\n",
    "    - `others_pf`\n",
    "- `mdd` column (personal health history)\n",
    "\n",
    "HAMD response are mapped to: 0 = non-response, 1 = response"
   ]
  },
  {
   "cell_type": "code",
   "execution_count": 28,
   "id": "0dfff976",
   "metadata": {},
   "outputs": [],
   "source": [
    "hamd_data = data.drop(\n",
    "    columns=[\n",
    "        \"hamd_4th_week\",\n",
    "        \"hamd_6th_week\",\n",
    "        \"hamd_8th_week\",\n",
    "        \"phq9_initial_score\",\n",
    "        \"phq9_4th_week\",\n",
    "        \"phq9_6th_week\",\n",
    "        \"phq9_8th_week\",\n",
    "        \"phq9_response\",\n",
    "        \"pss_initial_score\",\n",
    "        \"pss_4th_week\",\n",
    "        \"pss_6th_week\",\n",
    "        \"pss_8th_week\",\n",
    "        \"ace_score\",\n",
    "        \"civil_status\",\n",
    "        \"employ_stat\",\n",
    "        \"prohibited_drug_type\",\n",
    "        \"other_disease\",\n",
    "        \"other_disease_fh\",\n",
    "        \"others_pf\",\n",
    "        \"mdd\",\n",
    "    ]\n",
    ").copy()\n",
    "\n",
    "hamd_data.hamd_response = data.hamd_response.map({2: 0, 1: 1})\n",
    "hamd_data.to_csv(\"hamd_data.csv\", index=False)"
   ]
  }
 ],
 "metadata": {
  "kernelspec": {
   "display_name": ".venv",
   "language": "python",
   "name": "python3"
  },
  "language_info": {
   "codemirror_mode": {
    "name": "ipython",
    "version": 3
   },
   "file_extension": ".py",
   "mimetype": "text/x-python",
   "name": "python",
   "nbconvert_exporter": "python",
   "pygments_lexer": "ipython3",
   "version": "3.11.9"
  }
 },
 "nbformat": 4,
 "nbformat_minor": 5
}
