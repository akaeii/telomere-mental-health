{
 "cells": [
  {
   "cell_type": "code",
   "execution_count": 1,
   "id": "42d2b9ca",
   "metadata": {},
   "outputs": [],
   "source": [
    "import pandas as pd"
   ]
  },
  {
   "cell_type": "markdown",
   "id": "3be9f15f",
   "metadata": {},
   "source": [
    "<h1 style=\"text-align:center\">Dataset Loading</h1>"
   ]
  },
  {
   "cell_type": "code",
   "execution_count": 17,
   "id": "34410a4c",
   "metadata": {},
   "outputs": [],
   "source": [
    "def load(data_path=\"../data/Telomere MDD.xlsx\"):\n",
    "    data = pd.read_excel(data_path)\n",
    "    return data"
   ]
  },
  {
   "cell_type": "markdown",
   "id": "483dee9e",
   "metadata": {},
   "source": [
    "<h1 style=\"text-align:center\">Response Prediction Using XGBoost Classifier</h1>"
   ]
  },
  {
   "cell_type": "markdown",
   "id": "4846ac3d",
   "metadata": {},
   "source": [
    "Source Codes:\n",
    "- [XGBoost Hyperparameter Tuning (Optuna)](https://github.com/optuna/optuna-examples/blob/main/xgboost/xgboost_simple.py)\n",
    "- [XGBoost Binary Classification Pipeline](https://www.kaggle.com/code/stuarthallows/using-xgboost-with-scikit-learn#Binary-classification)"
   ]
  },
  {
   "cell_type": "markdown",
   "id": "217f33d0",
   "metadata": {},
   "source": [
    "<h2>Data Prepocessing<h2>"
   ]
  },
  {
   "cell_type": "code",
   "execution_count": 14,
   "id": "4b855f4b",
   "metadata": {},
   "outputs": [],
   "source": [
    "def preprocess(data):\n",
    "\n",
    "    preprocessed_data = data\n",
    "\n",
    "    return preprocessed_data"
   ]
  },
  {
   "cell_type": "markdown",
   "id": "be8d0ee1",
   "metadata": {},
   "source": [
    "<h2>XGBoost Classification Pipeline<h2>"
   ]
  },
  {
   "cell_type": "code",
   "execution_count": null,
   "id": "4f5812ff",
   "metadata": {},
   "outputs": [],
   "source": [
    "def execute_pipeline(preprocessed_data):\n",
    "    return"
   ]
  },
  {
   "cell_type": "code",
   "execution_count": null,
   "id": "47d3f666",
   "metadata": {},
   "outputs": [],
   "source": [
    "data = load()\n",
    "preprocessed_data = preprocess(data)\n",
    "execute_pipeline(preprocessed_data)"
   ]
  },
  {
   "cell_type": "markdown",
   "id": "7d01b1fa",
   "metadata": {},
   "source": [
    "<h2>Model Evaluation<h2>"
   ]
  },
  {
   "cell_type": "markdown",
   "id": "e29c45fa",
   "metadata": {},
   "source": [
    "<h3>Confusion Matrix<h3>"
   ]
  },
  {
   "cell_type": "code",
   "execution_count": null,
   "id": "bfecb5f3",
   "metadata": {},
   "outputs": [],
   "source": []
  },
  {
   "cell_type": "markdown",
   "id": "c5c3d34d",
   "metadata": {},
   "source": [
    "<h3>Model Metrics<h3>"
   ]
  },
  {
   "cell_type": "code",
   "execution_count": null,
   "id": "d828873c",
   "metadata": {},
   "outputs": [],
   "source": []
  },
  {
   "cell_type": "markdown",
   "id": "38089dd9",
   "metadata": {},
   "source": [
    "<h3>Shapley Values<h3>"
   ]
  },
  {
   "cell_type": "code",
   "execution_count": null,
   "id": "e74ae038",
   "metadata": {},
   "outputs": [],
   "source": []
  }
 ],
 "metadata": {
  "kernelspec": {
   "display_name": ".venv",
   "language": "python",
   "name": "python3"
  },
  "language_info": {
   "codemirror_mode": {
    "name": "ipython",
    "version": 3
   },
   "file_extension": ".py",
   "mimetype": "text/x-python",
   "name": "python",
   "nbconvert_exporter": "python",
   "pygments_lexer": "ipython3",
   "version": "3.11.9"
  }
 },
 "nbformat": 4,
 "nbformat_minor": 5
}
